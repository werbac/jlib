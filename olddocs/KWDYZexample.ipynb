{
 "cells": [
  {
   "cell_type": "markdown",
   "metadata": {},
   "source": [
    "# Fitting the KWDYZ example in Julia"
   ]
  },
  {
   "cell_type": "markdown",
   "metadata": {},
   "source": [
    "This is an example from _Kleigl et al._ (2011) using data from the saved R data set, `KWDYZ.rda` in the `data` directory for this package.\n",
    "\n",
    "The `read_rda` function in the `DataFrames` package for Julia reads a saved R data file returning the contents as a dictionary (like a list in R but the components can only be retrieved by name)."
   ]
  },
  {
   "cell_type": "code",
   "execution_count": 9,
   "metadata": {
    "collapsed": false
   },
   "outputs": [
    {
     "data": {
      "text/html": [
       "<table class=\"data-frame\"><tr><th></th><th>item</th><th>tar</th><th>dir</th><th>rt</th><th>subj</th><th>c1</th><th>c2</th><th>c3</th><th>srt</th><th>lrt</th><th>qrt</th><th>prt</th></tr><tr><th>1</th><td>39</td><td>dod</td><td>hor</td><td>506.1</td><td>1</td><td>0.25</td><td>0.5</td><td>-0.75</td><td>0.5061</td><td>6.226734278220032</td><td>22.4966664197165</td><td>14.036235047977032</td></tr><tr><th>2</th><td>52</td><td>dod</td><td>hor</td><td>489.6</td><td>1</td><td>0.25</td><td>0.5</td><td>-0.75</td><td>0.48960000000000004</td><td>6.193588731198116</td><td>22.126906697502932</td><td>13.840242483234347</td></tr><tr><th>3</th><td>89</td><td>dod</td><td>hor</td><td>518.7</td><td>1</td><td>0.25</td><td>0.5</td><td>-0.75</td><td>0.5187</td><td>6.251325681357355</td><td>22.774986278810356</td><td>14.183437487026127</td></tr><tr><th>4</th><td>104</td><td>dod</td><td>hor</td><td>459.6</td><td>1</td><td>0.25</td><td>0.5</td><td>-0.75</td><td>0.4596</td><td>6.130356545974601</td><td>21.438283513378586</td><td>13.473903246772165</td></tr><tr><th>5</th><td>120</td><td>dod</td><td>hor</td><td>384.2</td><td>1</td><td>0.25</td><td>0.5</td><td>-0.75</td><td>0.3842</td><td>5.9511632503344565</td><td>19.601020381602584</td><td>12.487565630398025</td></tr><tr><th>6</th><td>161</td><td>dod</td><td>hor</td><td>470.0</td><td>1</td><td>0.25</td><td>0.5</td><td>-0.75</td><td>0.47</td><td>6.152732694704104</td><td>21.6794833886788</td><td>13.6024187183506</td></tr><tr><th>7</th><td>194</td><td>dod</td><td>hor</td><td>422.0</td><td>1</td><td>0.25</td><td>0.5</td><td>-0.75</td><td>0.422</td><td>6.045005314036012</td><td>20.54263858417414</td><td>12.994746292564496</td></tr><tr><th>8</th><td>248</td><td>dod</td><td>hor</td><td>462.8</td><td>1</td><td>0.25</td><td>0.5</td><td>-0.75</td><td>0.4628</td><td>6.137294995319522</td><td>21.51278689523977</td><td>13.513623211612503</td></tr><tr><th>9</th><td>270</td><td>dod</td><td>hor</td><td>471.9</td><td>1</td><td>0.25</td><td>0.5</td><td>-0.75</td><td>0.4719</td><td>6.156767098732342</td><td>21.723259423944647</td><td>13.625720058735002</td></tr><tr><th>10</th><td>277</td><td>dod</td><td>hor</td><td>445.5</td><td>1</td><td>0.25</td><td>0.5</td><td>-0.75</td><td>0.4455</td><td>6.099197246910864</td><td>21.106870919205434</td><td>13.29696266938164</td></tr><tr><th>11</th><td>289</td><td>dod</td><td>hor</td><td>399.1</td><td>1</td><td>0.25</td><td>0.5</td><td>-0.75</td><td>0.3991</td><td>5.989212012054688</td><td>19.977487329491666</td><td>12.690774122389815</td></tr><tr><th>12</th><td>299</td><td>dod</td><td>hor</td><td>389.7</td><td>1</td><td>0.25</td><td>0.5</td><td>-0.75</td><td>0.3897</td><td>5.965377212344664</td><td>19.74082065163452</td><td>12.563095143693552</td></tr><tr><th>13</th><td>304</td><td>dod</td><td>hor</td><td>409.8</td><td>1</td><td>0.25</td><td>0.5</td><td>-0.75</td><td>0.4098</td><td>6.0156692358048</td><td>20.243517480912253</td><td>12.834021158252208</td></tr><tr><th>14</th><td>320</td><td>dod</td><td>hor</td><td>370.1</td><td>1</td><td>0.25</td><td>0.5</td><td>-0.75</td><td>0.37010000000000004</td><td>5.9137732393921105</td><td>19.237983262286097</td><td>12.291045469327695</td></tr><tr><th>15</th><td>378</td><td>dod</td><td>hor</td><td>408.2</td><td>1</td><td>0.25</td><td>0.5</td><td>-0.75</td><td>0.4082</td><td>6.011757250375744</td><td>20.203960007879644</td><td>12.812739115708265</td></tr><tr><th>16</th><td>479</td><td>dod</td><td>hor</td><td>417.5</td><td>1</td><td>0.25</td><td>0.5</td><td>-0.75</td><td>0.4175</td><td>6.0342845442909105</td><td>20.43281674170255</td><td>12.935777779076782</td></tr><tr><th>17</th><td>494</td><td>dod</td><td>hor</td><td>316.7</td><td>1</td><td>0.25</td><td>0.5</td><td>-0.75</td><td>0.3167</td><td>5.757954953544594</td><td>17.79606698121807</td><td>11.50482284638836</td></tr><tr><th>18</th><td>503</td><td>dod</td><td>hor</td><td>440.7</td><td>1</td><td>0.25</td><td>0.5</td><td>-0.75</td><td>0.4407</td><td>6.088364371847941</td><td>20.992855927672156</td><td>13.235993220286256</td></tr><tr><th>19</th><td>508</td><td>dod</td><td>hor</td><td>398.7</td><td>1</td><td>0.25</td><td>0.5</td><td>-0.75</td><td>0.3987</td><td>5.988209254387309</td><td>19.967473550752484</td><td>12.685376464020894</td></tr><tr><th>20</th><td>554</td><td>dod</td><td>hor</td><td>348.7</td><td>1</td><td>0.25</td><td>0.5</td><td>-0.75</td><td>0.3487</td><td>5.854211953681605</td><td>18.673510650116114</td><td>11.984361453423922</td></tr><tr><th>21</th><td>587</td><td>dod</td><td>hor</td><td>275.0</td><td>1</td><td>0.25</td><td>0.5</td><td>-0.75</td><td>0.275</td><td>5.616771097666572</td><td>16.583123951777</td><td>10.835959687916407</td></tr><tr><th>22</th><td>590</td><td>dod</td><td>hor</td><td>411.2</td><td>1</td><td>0.25</td><td>0.5</td><td>-0.75</td><td>0.4112</td><td>6.019079714140955</td><td>20.27806696901852</td><td>12.852603734733455</td></tr><tr><th>23</th><td>4</td><td>dod</td><td>ver</td><td>525.7</td><td>1</td><td>0.25</td><td>0.5</td><td>-0.75</td><td>0.5257000000000001</td><td>6.264730707825403</td><td>22.928148638736623</td><td>14.264328138370793</td></tr><tr><th>24</th><td>40</td><td>dod</td><td>ver</td><td>466.7</td><td>1</td><td>0.25</td><td>0.5</td><td>-0.75</td><td>0.4667</td><td>6.14568665295577</td><td>21.603240497666086</td><td>13.561818714724618</td></tr><tr><th>25</th><td>79</td><td>dod</td><td>ver</td><td>469.4</td><td>1</td><td>0.25</td><td>0.5</td><td>-0.75</td><td>0.4694</td><td>6.151455283416923</td><td>21.66564100136435</td><td>13.595049135993305</td></tr><tr><th>26</th><td>116</td><td>dod</td><td>ver</td><td>484.2</td><td>1</td><td>0.25</td><td>0.5</td><td>-0.75</td><td>0.48419999999999996</td><td>6.182498044503958</td><td>22.004544985070698</td><td>13.77527523217376</td></tr><tr><th>27</th><td>164</td><td>dod</td><td>ver</td><td>518.2</td><td>1</td><td>0.25</td><td>0.5</td><td>-0.75</td><td>0.5182</td><td>6.250361268128009</td><td>22.764006677208652</td><td>14.177635597194842</td></tr><tr><th>28</th><td>167</td><td>dod</td><td>ver</td><td>519.8</td><td>1</td><td>0.25</td><td>0.5</td><td>-0.75</td><td>0.5197999999999999</td><td>6.25344412220739</td><td>22.799122790142604</td><td>14.19619032008118</td></tr><tr><th>29</th><td>169</td><td>dod</td><td>ver</td><td>505.8</td><td>1</td><td>0.25</td><td>0.5</td><td>-0.75</td><td>0.5058</td><td>6.226141334235865</td><td>22.489997776789576</td><td>14.032704652660527</td></tr><tr><th>30</th><td>177</td><td>dod</td><td>ver</td><td>465.0</td><td>1</td><td>0.25</td><td>0.5</td><td>-0.75</td><td>0.465</td><td>6.142037405587356</td><td>21.563858652847824</td><td>13.540839039367318</td></tr><tr><th>&vellip;</th><td>&vellip;</td><td>&vellip;</td><td>&vellip;</td><td>&vellip;</td><td>&vellip;</td><td>&vellip;</td><td>&vellip;</td><td>&vellip;</td><td>&vellip;</td><td>&vellip;</td><td>&vellip;</td><td>&vellip;</td></tr></table>"
      ],
      "text/plain": [
       "28710x12 DataFrames.DataFrame\n",
       "| Row   | item  | tar   | dir   | rt    | subj | c1    | c2   | c3    | srt    |\n",
       "|-------|-------|-------|-------|-------|------|-------|------|-------|--------|\n",
       "| 1     | \"39\"  | \"dod\" | \"hor\" | 506.1 | \"1\"  | 0.25  | 0.5  | -0.75 | 0.5061 |\n",
       "| 2     | \"52\"  | \"dod\" | \"hor\" | 489.6 | \"1\"  | 0.25  | 0.5  | -0.75 | 0.4896 |\n",
       "| 3     | \"89\"  | \"dod\" | \"hor\" | 518.7 | \"1\"  | 0.25  | 0.5  | -0.75 | 0.5187 |\n",
       "| 4     | \"104\" | \"dod\" | \"hor\" | 459.6 | \"1\"  | 0.25  | 0.5  | -0.75 | 0.4596 |\n",
       "| 5     | \"120\" | \"dod\" | \"hor\" | 384.2 | \"1\"  | 0.25  | 0.5  | -0.75 | 0.3842 |\n",
       "| 6     | \"161\" | \"dod\" | \"hor\" | 470.0 | \"1\"  | 0.25  | 0.5  | -0.75 | 0.47   |\n",
       "| 7     | \"194\" | \"dod\" | \"hor\" | 422.0 | \"1\"  | 0.25  | 0.5  | -0.75 | 0.422  |\n",
       "| 8     | \"248\" | \"dod\" | \"hor\" | 462.8 | \"1\"  | 0.25  | 0.5  | -0.75 | 0.4628 |\n",
       "| 9     | \"270\" | \"dod\" | \"hor\" | 471.9 | \"1\"  | 0.25  | 0.5  | -0.75 | 0.4719 |\n",
       "| 10    | \"277\" | \"dod\" | \"hor\" | 445.5 | \"1\"  | 0.25  | 0.5  | -0.75 | 0.4455 |\n",
       "| 11    | \"289\" | \"dod\" | \"hor\" | 399.1 | \"1\"  | 0.25  | 0.5  | -0.75 | 0.3991 |\n",
       "⋮\n",
       "| 28699 | \"566\" | \"val\" | \"ver\" | 349.4 | \"61\" | -0.75 | -0.5 | 0.25  | 0.3494 |\n",
       "| 28700 | \"577\" | \"val\" | \"ver\" | 577.8 | \"61\" | -0.75 | -0.5 | 0.25  | 0.5778 |\n",
       "| 28701 | \"578\" | \"val\" | \"ver\" | 334.7 | \"61\" | -0.75 | -0.5 | 0.25  | 0.3347 |\n",
       "| 28702 | \"580\" | \"val\" | \"ver\" | 346.2 | \"61\" | -0.75 | -0.5 | 0.25  | 0.3462 |\n",
       "| 28703 | \"581\" | \"val\" | \"ver\" | 302.3 | \"61\" | -0.75 | -0.5 | 0.25  | 0.3023 |\n",
       "| 28704 | \"586\" | \"val\" | \"ver\" | 328.3 | \"61\" | -0.75 | -0.5 | 0.25  | 0.3283 |\n",
       "| 28705 | \"591\" | \"val\" | \"ver\" | 353.7 | \"61\" | -0.75 | -0.5 | 0.25  | 0.3537 |\n",
       "| 28706 | \"592\" | \"val\" | \"ver\" | 376.0 | \"61\" | -0.75 | -0.5 | 0.25  | 0.376  |\n",
       "| 28707 | \"593\" | \"val\" | \"ver\" | 295.9 | \"61\" | -0.75 | -0.5 | 0.25  | 0.2959 |\n",
       "| 28708 | \"596\" | \"val\" | \"ver\" | 254.3 | \"61\" | -0.75 | -0.5 | 0.25  | 0.2543 |\n",
       "| 28709 | \"600\" | \"val\" | \"ver\" | 282.6 | \"61\" | -0.75 | -0.5 | 0.25  | 0.2826 |\n",
       "| 28710 | \"602\" | \"val\" | \"ver\" | 450.5 | \"61\" | -0.75 | -0.5 | 0.25  | 0.4505 |\n",
       "\n",
       "| Row   | lrt     | qrt     | prt     |\n",
       "|-------|---------|---------|---------|\n",
       "| 1     | 6.22673 | 22.4967 | 14.0362 |\n",
       "| 2     | 6.19359 | 22.1269 | 13.8402 |\n",
       "| 3     | 6.25133 | 22.775  | 14.1834 |\n",
       "| 4     | 6.13036 | 21.4383 | 13.4739 |\n",
       "| 5     | 5.95116 | 19.601  | 12.4876 |\n",
       "| 6     | 6.15273 | 21.6795 | 13.6024 |\n",
       "| 7     | 6.04501 | 20.5426 | 12.9947 |\n",
       "| 8     | 6.13729 | 21.5128 | 13.5136 |\n",
       "| 9     | 6.15677 | 21.7233 | 13.6257 |\n",
       "| 10    | 6.0992  | 21.1069 | 13.297  |\n",
       "| 11    | 5.98921 | 19.9775 | 12.6908 |\n",
       "⋮\n",
       "| 28699 | 5.85622 | 18.6922 | 11.9946 |\n",
       "| 28700 | 6.35923 | 24.0375 | 14.8478 |\n",
       "| 28701 | 5.81323 | 18.2948 | 11.7778 |\n",
       "| 28702 | 5.84702 | 18.6065 | 11.9478 |\n",
       "| 28703 | 5.71142 | 17.3868 | 11.2799 |\n",
       "| 28704 | 5.79393 | 18.1191 | 11.6817 |\n",
       "| 28705 | 5.86845 | 18.8069 | 12.057  |\n",
       "| 28706 | 5.92959 | 19.3907 | 12.3738 |\n",
       "| 28707 | 5.69002 | 17.2017 | 11.178  |\n",
       "| 28708 | 5.53851 | 15.9468 | 10.4821 |\n",
       "| 28709 | 5.64403 | 16.8107 | 10.962  |\n",
       "| 28710 | 6.11036 | 21.225  | 13.3601 |"
      ]
     },
     "execution_count": 9,
     "metadata": {},
     "output_type": "execute_result"
    }
   ],
   "source": [
    "using DataFrames,MixedModels,RCall\n",
    "@rimport RePsychLing\n",
    "kwdyz = rcopy(RePsychLing.KWDYZ)"
   ]
  },
  {
   "cell_type": "markdown",
   "metadata": {},
   "source": [
    "The `MixedModels` package provides an `lmm` function that generates an object of a type that inherits from the abstract type `LinearMixedModel`.  The reason for having different concrete types is to be able to exploit properties of certain mixed-effects model structures."
   ]
  },
  {
   "cell_type": "code",
   "execution_count": 10,
   "metadata": {
    "collapsed": false
   },
   "outputs": [
    {
     "data": {
      "text/plain": [
       "MixedModels.LinearMixedModel{Float64}"
      ]
     },
     "execution_count": 10,
     "metadata": {},
     "output_type": "execute_result"
    }
   ],
   "source": [
    "using MixedModels\n",
    "modl = lmm(rt ~ 1 + c1 + c2 + c3 + (1 + c1 + c2 + c3|subj), kwdyz);\n",
    "typeof(modl)"
   ]
  },
  {
   "cell_type": "markdown",
   "metadata": {},
   "source": [
    "In this case the model has a single vector-valued random-effects term.  The `fit` generic function applied to a `LinearMixedModel` object by default fits by maximum likelihood.  (At present the `show` method for the fitted model doesn't show the standard deviations and correlations properly.)  An optional second argument is `verbose`."
   ]
  },
  {
   "cell_type": "code",
   "execution_count": 11,
   "metadata": {
    "collapsed": false
   },
   "outputs": [
    {
     "data": {
      "text/plain": [
       "Linear mixed model fit by maximum likelihood\n",
       " logLik: -162904.774673, deviance: 325809.549347, AIC: 325839.549347, BIC: 325963.524358\n",
       "\n",
       "Variance components:\n",
       "            Variance   Std.Dev.   Corr.\n",
       " subj     3046.929720 55.199001\n",
       "           540.482135 23.248272  0.60\n",
       "           115.664644 10.754750 -0.13 -0.13\n",
       "            90.453225  9.510690 -0.25 -0.25 -0.25\n",
       " Residual 4876.904085 69.834834\n",
       " Number of obs: 28710; levels of grouping factors: 61\n",
       "\n",
       "  Fixed-effects parameters:\n",
       "             Estimate Std.Error z value\n",
       "(Intercept)   389.734   7.09122   54.96\n",
       "c1            33.7817   3.28737 10.2762\n",
       "c2            13.9852   2.30579 6.06526\n",
       "c3            2.74695   2.21428 1.24056\n"
      ]
     },
     "execution_count": 11,
     "metadata": {},
     "output_type": "execute_result"
    }
   ],
   "source": [
    "fit!(modl)"
   ]
  },
  {
   "cell_type": "markdown",
   "metadata": {},
   "source": [
    "The speed with which this model can be fit is remarkable.  The first fit is slow because the methods used are compiled.  Subsequent fits are fast."
   ]
  },
  {
   "cell_type": "code",
   "execution_count": 12,
   "metadata": {
    "collapsed": false
   },
   "outputs": [
    {
     "name": "stdout",
     "output_type": "stream",
     "text": [
      "  0.159339 seconds (2.09 M allocations: 74.363 MB, 7.05% gc time)\n"
     ]
    }
   ],
   "source": [
    "gc(); @time fit!(lmm(rt ~ c1+c2+c3+(c1+c2+c3|subj),kwdyz));"
   ]
  },
  {
   "cell_type": "markdown",
   "metadata": {},
   "source": [
    "The parameters being optimized are the $\\theta$ parameters, which are the vector of elements on and below the diagonal in the (left) Cholesky factor of the relative covariance matrix, called $\\Lambda$."
   ]
  },
  {
   "cell_type": "code",
   "execution_count": 13,
   "metadata": {
    "collapsed": false
   },
   "outputs": [
    {
     "data": {
      "text/plain": [
       "1-element Array{LowerTriangular{Float64,Array{Float64,2}},1}:\n",
       " 4x4 LowerTriangular{Float64,Array{Float64,2}}:\n",
       "  0.790422    0.0        0.0        0.0       \n",
       "  0.201046    0.26534    0.0        0.0       \n",
       " -0.0202352   0.0137584  0.152046   0.0       \n",
       " -0.0338899  -0.119132   0.0566233  2.06762e-5"
      ]
     },
     "execution_count": 13,
     "metadata": {},
     "output_type": "execute_result"
    }
   ],
   "source": [
    "modl.Λ"
   ]
  },
  {
   "cell_type": "markdown",
   "metadata": {},
   "source": [
    "Notice that that the fourth column of the Cholesky factor of $\\Lambda$ is essentially zero and thus  is singular.  This means that a linear combination of the coefficients has zero variance.  In other words, there are only three degrees of freedom in the four dimensional random effects vector."
   ]
  },
  {
   "cell_type": "markdown",
   "metadata": {},
   "source": [
    "There are different ways of determining the direction of the linear combination with zero variance.  The easiest is to take the singular value decomposition of `lambda`."
   ]
  },
  {
   "cell_type": "code",
   "execution_count": 14,
   "metadata": {
    "collapsed": false
   },
   "outputs": [
    {
     "name": "stdout",
     "output_type": "stream",
     "text": [
      "[0.8199638476385371,0.2820632463567811,0.16110785307204772,1.7694980696173958e-5]"
     ]
    }
   ],
   "source": [
    "lfact = svdfact(modl.Λ[1]);\n",
    "show(lfact[:S])"
   ]
  },
  {
   "cell_type": "markdown",
   "metadata": {},
   "source": [
    "Because the singular values are non-negative and returned in decreasing order, zero or near-zero singular values will be trailing elements of `S`.  The direction of the linear combinations that have zero variance is the corresponding column of `U`, the matrix of left singular vectors."
   ]
  },
  {
   "cell_type": "code",
   "execution_count": 15,
   "metadata": {
    "collapsed": false
   },
   "outputs": [
    {
     "name": "stdout",
     "output_type": "stream",
     "text": [
      "[-0.07340256872666075,0.40076971131313566,-0.3187125805283478,0.8558142277452948]"
     ]
    }
   ],
   "source": [
    "svec = lfact[:U][:,end];\n",
    "show(svec)"
   ]
  },
  {
   "cell_type": "markdown",
   "metadata": {},
   "source": [
    "We can verify that this combination does indeed have (near) zero variance by evaluating the relative covariance matrix and the quadratic form for the variance of this combination"
   ]
  },
  {
   "cell_type": "code",
   "execution_count": 16,
   "metadata": {
    "collapsed": false
   },
   "outputs": [
    {
     "data": {
      "text/plain": [
       "4x4 Array{Float64,2}:\n",
       "  0.624767    0.158911     -0.0159944    -0.0267873 \n",
       "  0.158911    0.110825     -0.000417571  -0.038424  \n",
       " -0.0159944  -0.000417571   0.0237168     0.00765606\n",
       " -0.0267873  -0.038424      0.00765606    0.0185473 "
      ]
     },
     "execution_count": 16,
     "metadata": {},
     "output_type": "execute_result"
    }
   ],
   "source": [
    "relcov = modl.Λ[1]*modl.Λ[1]'"
   ]
  },
  {
   "cell_type": "markdown",
   "metadata": {},
   "source": [
    "In fact, it may be easier conceptually to begin with the relative covariance matrix and its eigendecomposition, which is related to the principle components."
   ]
  },
  {
   "cell_type": "code",
   "execution_count": 17,
   "metadata": {
    "collapsed": false
   },
   "outputs": [
    {
     "data": {
      "text/plain": [
       "4-element Array{Float64,1}:\n",
       " 3.13112e-10\n",
       " 0.0259557  \n",
       " 0.0795597  \n",
       " 0.672341   "
      ]
     },
     "execution_count": 17,
     "metadata": {},
     "output_type": "execute_result"
    }
   ],
   "source": [
    "ev = eigfact(relcov);\n",
    "ev[:values]"
   ]
  },
  {
   "cell_type": "markdown",
   "metadata": {},
   "source": [
    "The eigenvalues of `lambda * lambda'` are the squares of the singular values of `lambda` but in the opposite order.  The direction of zero variance is therefore"
   ]
  },
  {
   "cell_type": "code",
   "execution_count": 18,
   "metadata": {
    "collapsed": false
   },
   "outputs": [
    {
     "name": "stdout",
     "output_type": "stream",
     "text": [
      "[0.07340256872666062 0.003998124345322318 0.27226140123459697 0.9594111773915399]"
     ]
    }
   ],
   "source": [
    "evec = ev[:vectors][1,:];\n",
    "show(evec)"
   ]
  }
 ],
 "metadata": {
  "kernelspec": {
   "display_name": "Julia 0.4.0",
   "language": "julia",
   "name": "julia-0.4"
  },
  "language_info": {
   "file_extension": ".jl",
   "mimetype": "application/julia",
   "name": "julia",
   "version": "0.4.1"
  }
 },
 "nbformat": 4,
 "nbformat_minor": 0
}
