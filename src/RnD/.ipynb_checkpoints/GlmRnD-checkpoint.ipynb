{
 "cells": [
  {
   "cell_type": "code",
   "execution_count": 73,
   "metadata": {},
   "outputs": [],
   "source": [
    "using GLM, DataFrames"
   ]
  },
  {
   "cell_type": "code",
   "execution_count": 80,
   "metadata": {},
   "outputs": [
    {
     "data": {
      "text/plain": [
       "DataFrames.DataFrameRegressionModel{GLM.GeneralizedLinearModel{GLM.GlmResp{Array{Float64,1},Distributions.Poisson{Float64},GLM.LogLink},GLM.DensePredChol{Float64,Base.LinAlg.Cholesky{Float64,Array{Float64,2}}}},Array{Float64,2}}\n",
       "\n",
       "Formula: y ~ 1 + x1 + x2 + x3\n",
       "\n",
       "Coefficients:\n",
       "                 Estimate Std.Error    z value Pr(>|z|)\n",
       "(Intercept)       3.23724    0.3167    10.2218   <1e-23\n",
       "x1             -0.0385947 0.0145195   -2.65812   0.0079\n",
       "x2             -0.0186095 0.0126592   -1.47003   0.1416\n",
       "x3           -0.000463356 0.0143201 -0.0323571   0.9742\n"
      ]
     },
     "execution_count": 80,
     "metadata": {},
     "output_type": "execute_result"
    }
   ],
   "source": [
    "# ***************** Poisson ***************************\n",
    "dfd=DataFrame(y=rand(collect(0:1:25),10), x1=rand(collect(0.00:0.01:25.0),10),x2=rand(collect(0.00:0.01:25.0),10),x3=rand(collect(0.00:0.01:25.0),10)  )\n",
    "mm=ModelMatrix(ModelFrame(y ~ 1 + x1 + x2 + x3, dfd))\n",
    "m = glm( y ~ 1 + x1 + x2 + x3, dfd, Poisson(), LogLink() )"
   ]
  },
  {
   "cell_type": "code",
   "execution_count": 81,
   "metadata": {},
   "outputs": [
    {
     "data": {
      "text/plain": [
       "12.70000000018841"
      ]
     },
     "execution_count": 81,
     "metadata": {},
     "output_type": "execute_result"
    }
   ],
   "source": [
    "y=mean(exp(mm.m*coef(m)))"
   ]
  },
  {
   "cell_type": "code",
   "execution_count": 82,
   "metadata": {},
   "outputs": [
    {
     "data": {
      "text/plain": [
       "12.7"
      ]
     },
     "execution_count": 82,
     "metadata": {},
     "output_type": "execute_result"
    }
   ],
   "source": [
    "mean(dfd[:y])"
   ]
  },
  {
   "cell_type": "code",
   "execution_count": null,
   "metadata": {},
   "outputs": [],
   "source": []
  },
  {
   "cell_type": "code",
   "execution_count": null,
   "metadata": {},
   "outputs": [],
   "source": []
  },
  {
   "cell_type": "code",
   "execution_count": null,
   "metadata": {},
   "outputs": [],
   "source": [
    "dfd=DataFrame(y=rand([\"red\",\"green\",\"blue\"],1000000), x1=rand(Normal(2.765, 0.45332),1000000),x2=rand(Normal(3.9982,1.2754),1000000),x3=rand(Normal(27.8876, 2.754)));\n",
    "\n",
    "dfd=DataFrame(y=rand(collect(0.00:0.01:25.0),1000000), x1=rand(Normal(2.765, 0.45332),1000000),x2=rand(Normal(3.9982,1.2754),1000000),x3=rand(Normal(27.8876, 2.754)));\n",
    "\n",
    "dfd=DataFrame(y=rand(collect(0:1:25),1000000), x1=rand(Normal(2.765, 0.45332),1000000),x2=rand(Normal(3.9982,1.2754),1000000),x3=rand(Normal(27.8876, 2.754)));\n",
    "\n",
    "dfd=DataFrame(y=rand(collect(0:1:25),1000000), x1=rand(collect(0.00:0.01:25.0),1000000),x2=rand(collect(0.00:0.01:25.0),1000000),x3=rand(collect(0.00:0.01:25.0),1000000)  );\n",
    "\n",
    "\n",
    "dfd=DataFrame(y=rand(collect(0:1:25),10), x1=rand(collect(0.00:0.01:25.0),10),x2=rand(collect(0.00:0.01:25.0),10),x3=rand(collect(0.00:0.01:25.0),10)  )\n",
    "\n",
    "#dfd[:y] = pool(dfd[:y]);\n"
   ]
  },
  {
   "cell_type": "code",
   "execution_count": null,
   "metadata": {},
   "outputs": [],
   "source": []
  },
  {
   "cell_type": "code",
   "execution_count": null,
   "metadata": {},
   "outputs": [],
   "source": []
  },
  {
   "cell_type": "code",
   "execution_count": 34,
   "metadata": {},
   "outputs": [
    {
     "data": {
      "text/plain": [
       "Dict{Symbol,Float64} with 4 entries:\n",
       "  :y  => 2.33214\n",
       "  :x1 => 2.63562\n",
       "  :x2 => 2.21036\n",
       "  :x3 => 2.65155"
      ]
     },
     "execution_count": 34,
     "metadata": {},
     "output_type": "execute_result"
    }
   ],
   "source": [
    "Dict(v=>log(mean( dfd[v]) )for v in [:y,:x1,:x2,:x3]  )"
   ]
  },
  {
   "cell_type": "code",
   "execution_count": null,
   "metadata": {},
   "outputs": [],
   "source": []
  }
 ],
 "metadata": {
  "kernelspec": {
   "display_name": "Julia 0.5.0",
   "language": "julia",
   "name": "julia-0.5"
  },
  "language_info": {
   "file_extension": ".jl",
   "mimetype": "application/julia",
   "name": "julia",
   "version": "0.5.0"
  }
 },
 "nbformat": 4,
 "nbformat_minor": 1
}
