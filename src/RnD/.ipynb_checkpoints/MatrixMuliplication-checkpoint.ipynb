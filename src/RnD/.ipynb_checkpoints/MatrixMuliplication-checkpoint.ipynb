{
 "cells": [
  {
   "cell_type": "code",
   "execution_count": null,
   "metadata": {},
   "outputs": [],
   "source": [
    "using GLM, DataFrames\n",
    "\n",
    "dfd=DataFrame(rand(collect(0.00:0.01:25.0),5), x1=rand(Normal(2.765, 0.45332),1000000),x2=rand(Normal(3.9982,1.2754),1000000),x3=rand(Normal(27.8876, 2.754)));\n",
    "\n"
   ]
  }
 ],
 "metadata": {
  "kernelspec": {
   "display_name": "Julia 0.5.0",
   "language": "julia",
   "name": "julia-0.5"
  },
  "language_info": {
   "file_extension": ".jl",
   "mimetype": "application/julia",
   "name": "julia",
   "version": "0.5.0"
  }
 },
 "nbformat": 4,
 "nbformat_minor": 1
}
