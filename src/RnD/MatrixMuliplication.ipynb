{
 "cells": [
  {
   "cell_type": "code",
   "execution_count": 1,
   "metadata": {},
   "outputs": [],
   "source": [
    "using GLM, DataFrames\n",
    "\n",
    "#dfd=DataFrame(rand(collect(0.00:0.01:25.0),5), x1=rand(Normal(2.765, 0.45332),1000000),x2=rand(Normal(3.9982,1.2754),1000000),x3=rand(Normal(27.8876, 2.754)));\n",
    "\n"
   ]
  },
  {
   "cell_type": "code",
   "execution_count": 10,
   "metadata": {},
   "outputs": [
    {
     "data": {
      "text/plain": [
       "5×2 Array{Float64,2}:\n",
       " 0.0615986  0.556422\n",
       " 0.333018   0.463332\n",
       " 0.356387   0.670915\n",
       " 0.110823   0.477833\n",
       " 0.237193   0.153692"
      ]
     },
     "execution_count": 10,
     "metadata": {},
     "output_type": "execute_result"
    }
   ],
   "source": [
    "#dfd=DataFrame(rand(collect(0.00:0.01:25.0),5), x1=rand(Normal(2.765, 0.45332),1000000),x2=rand(Normal(3.9982,1.2754),1000000),x3=rand(Normal(27.8876, 2.754)));\n",
    "b = rand(2)\n",
    "x = rand(5,2)\n"
   ]
  },
  {
   "cell_type": "code",
   "execution_count": 11,
   "metadata": {},
   "outputs": [
    {
     "data": {
      "text/plain": [
       "2-element Array{Float64,1}:\n",
       " 0.835344\n",
       " 0.404256"
      ]
     },
     "execution_count": 11,
     "metadata": {},
     "output_type": "execute_result"
    }
   ],
   "source": [
    "b"
   ]
  },
  {
   "cell_type": "code",
   "execution_count": 12,
   "metadata": {},
   "outputs": [
    {
     "data": {
      "text/plain": [
       "5-element Array{Float64,1}:\n",
       " 0.276393\n",
       " 0.46549 \n",
       " 0.568927\n",
       " 0.285742\n",
       " 0.260269"
      ]
     },
     "execution_count": 12,
     "metadata": {},
     "output_type": "execute_result"
    }
   ],
   "source": [
    "x*b"
   ]
  },
  {
   "cell_type": "code",
   "execution_count": 18,
   "metadata": {},
   "outputs": [
    {
     "data": {
      "text/plain": [
       "5×2 Array{Float64,2}:\n",
       " 0.0615986  0.556422\n",
       " 0.333018   0.463332\n",
       " 0.356387   0.670915\n",
       " 0.110823   0.477833\n",
       " 0.237193   0.153692"
      ]
     },
     "execution_count": 18,
     "metadata": {},
     "output_type": "execute_result"
    }
   ],
   "source": [
    "x"
   ]
  },
  {
   "cell_type": "code",
   "execution_count": 21,
   "metadata": {},
   "outputs": [
    {
     "data": {
      "text/plain": [
       "5-element Array{Float64,1}:\n",
       " 0.0514561\n",
       " 0.278185 \n",
       " 0.297706 \n",
       " 0.0925755\n",
       " 0.198138 "
      ]
     },
     "execution_count": 21,
     "metadata": {},
     "output_type": "execute_result"
    }
   ],
   "source": [
    "a1=x[:,1].*b[1]"
   ]
  },
  {
   "cell_type": "code",
   "execution_count": 24,
   "metadata": {},
   "outputs": [
    {
     "data": {
      "text/plain": [
       "5-element Array{Float64,1}:\n",
       " 0.224937\n",
       " 0.187305\n",
       " 0.271222\n",
       " 0.193167\n",
       " 0.062131"
      ]
     },
     "execution_count": 24,
     "metadata": {},
     "output_type": "execute_result"
    }
   ],
   "source": [
    "a2=x[:,2].*b[2]"
   ]
  },
  {
   "cell_type": "code",
   "execution_count": 25,
   "metadata": {},
   "outputs": [
    {
     "data": {
      "text/plain": [
       "5-element Array{Float64,1}:\n",
       " 0.276393\n",
       " 0.46549 \n",
       " 0.568927\n",
       " 0.285742\n",
       " 0.260269"
      ]
     },
     "execution_count": 25,
     "metadata": {},
     "output_type": "execute_result"
    }
   ],
   "source": [
    "a1.+a2"
   ]
  },
  {
   "cell_type": "code",
   "execution_count": null,
   "metadata": {},
   "outputs": [],
   "source": []
  }
 ],
 "metadata": {
  "kernelspec": {
   "display_name": "Julia 0.5.0",
   "language": "julia",
   "name": "julia-0.5"
  },
  "language_info": {
   "file_extension": ".jl",
   "mimetype": "application/julia",
   "name": "julia",
   "version": "0.5.0"
  }
 },
 "nbformat": 4,
 "nbformat_minor": 1
}
