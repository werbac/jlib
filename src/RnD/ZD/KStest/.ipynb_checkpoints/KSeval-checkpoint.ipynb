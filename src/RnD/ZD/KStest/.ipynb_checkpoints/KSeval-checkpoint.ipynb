{
 "cells": [
  {
   "cell_type": "code",
   "execution_count": 8,
   "metadata": {},
   "outputs": [
    {
     "data": {
      "text/plain": [
       "Approximate two sample Kolmogorov-Smirnov test\n",
       "----------------------------------------------\n",
       "Population details:\n",
       "    parameter of interest:   Supremum of CDF differences\n",
       "    value under h_0:         0.0\n",
       "    point estimate:          0.000742\n",
       "\n",
       "Test summary:\n",
       "    outcome with 95% confidence: fail to reject h_0\n",
       "    two-sided p-value:           0.9459405003932967 (not significant)\n",
       "\n",
       "Details:\n",
       "    number of observations:   [1000000,1000000]\n",
       "    KS-statistic:              0.5246732316404183\n"
      ]
     },
     "execution_count": 8,
     "metadata": {},
     "output_type": "execute_result"
    }
   ],
   "source": [
    "using HypothesisTests, Distributions, Gadfly\n",
    "v1=rand(Normal(0,1),1000000)\n",
    "v2=rand(Normal(0,1),1000000)\n",
    "ks = ApproximateTwoSampleKSTest(v1,v2)\n"
   ]
  },
  {
   "cell_type": "code",
   "execution_count": 13,
   "metadata": {},
   "outputs": [],
   "source": [
    "q_grid=[i/100 for i in 0:100];\n",
    "q0 = quantile(v1,q_grid);\n",
    "q1 = quantile(v2,q_grid);"
   ]
  },
  {
   "cell_type": "code",
   "execution_count": 10,
   "metadata": {},
   "outputs": [
    {
     "ename": "LoadError",
     "evalue": "MethodError: no method matching plot(::Array{Float64,1}, ::Type{Gadfly.Geom.LineGeometry})\u001b[0m\nClosest candidates are:\n  plot(\u001b[1m\u001b[31m::Union{Array{Gadfly.Layer,1},Union{DataType,Function,Gadfly.Element,Gadfly.Theme}}...\u001b[0m; mapping...) at /home/iriadmin/.julia/v0.5/Gadfly/src/Gadfly.jl:348\n  plot(\u001b[1m\u001b[31m::Union{AbstractArray{T,2},DataFrames.AbstractDataFrame}\u001b[0m, ::Union{Array{Gadfly.Layer,1},Union{DataType,Function,Gadfly.Element,Gadfly.Theme}}...; mapping...) at /home/iriadmin/.julia/v0.5/Gadfly/src/Gadfly.jl:342\u001b[0m",
     "output_type": "error",
     "traceback": [
      "MethodError: no method matching plot(::Array{Float64,1}, ::Type{Gadfly.Geom.LineGeometry})\u001b[0m\nClosest candidates are:\n  plot(\u001b[1m\u001b[31m::Union{Array{Gadfly.Layer,1},Union{DataType,Function,Gadfly.Element,Gadfly.Theme}}...\u001b[0m; mapping...) at /home/iriadmin/.julia/v0.5/Gadfly/src/Gadfly.jl:348\n  plot(\u001b[1m\u001b[31m::Union{AbstractArray{T,2},DataFrames.AbstractDataFrame}\u001b[0m, ::Union{Array{Gadfly.Layer,1},Union{DataType,Function,Gadfly.Element,Gadfly.Theme}}...; mapping...) at /home/iriadmin/.julia/v0.5/Gadfly/src/Gadfly.jl:342\u001b[0m",
      ""
     ]
    }
   ],
   "source": [
    "plot(q1, Geom.line)\n",
    "plot(q1, x=\"Year\", y=\"Incidence\", Geom.line)"
   ]
  },
  {
   "cell_type": "code",
   "execution_count": null,
   "metadata": {},
   "outputs": [],
   "source": [
    "g1=c[(c[:modelType].==\"Glm\")&(c[:parameter].==\"group\")&(c[:model].==modelx),:coef]\n",
    "g2 = c[(c[:modelType].==\"RANDcovariate\")&(c[:model].==modelx)&(c[:ranef].==reff),[:parameter,:coef,:modelType]]\n",
    "g3 = c[(c[:modelType].==\"MixedModelsGlmmθ\")&(c[:model].==modelx)&(c[:ranef].==reff),[:parameter,:coef,:modelType]]\n",
    "plot( layer(vcat(g2,g3), x=\"parameter\", y=\"coef\", color=\"modelType\", Geom.point   ),\n",
    "      layer(yintercept=g1, Geom.hline(color=colorant\"orange\", size=1mm)  )\n",
    "    )\n",
    "\n",
    "\n",
    "plot( q_grid, q0, type = 'l', col ='red' )\n",
    "lines( q_grid, q1, col = 'blue' )\n",
    "\n"
   ]
  }
 ],
 "metadata": {
  "kernelspec": {
   "display_name": "Julia 0.5.0",
   "language": "julia",
   "name": "julia-0.5"
  },
  "language_info": {
   "file_extension": ".jl",
   "mimetype": "application/julia",
   "name": "julia",
   "version": "0.5.0"
  }
 },
 "nbformat": 4,
 "nbformat_minor": 1
}
