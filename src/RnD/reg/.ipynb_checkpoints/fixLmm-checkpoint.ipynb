{
 "cells": [
  {
   "cell_type": "code",
   "execution_count": 1,
   "metadata": {},
   "outputs": [
    {
     "data": {
      "text/html": [
       "<table class=\"data-frame\"><thead><tr><th></th><th>Effect</th><th>Estimate</th><th>StdErr</th><th>DF</th><th>tValue</th><th>Probt</th></tr></thead><tbody><tr><th>1</th><td>Intercept</td><td>2.04e-15</td><td>0.003995</td><td>316.0</td><td>0.0</td><td>1.0000</td></tr><tr><th>2</th><td>LogRegPrice</td><td>-1.3186</td><td>0.1135</td><td>16000.0</td><td>-11.61</td><td>&lt;.0001</td></tr><tr><th>3</th><td>LogPriceIndex</td><td>-1.249</td><td>0.07779</td><td>16000.0</td><td>-16.06</td><td>&lt;.0001</td></tr><tr><th>4</th><td>DisplayOnly</td><td>0.2037</td><td>0.03186</td><td>16000.0</td><td>6.4</td><td>&lt;.0001</td></tr><tr><th>5</th><td>FeatureDisplay</td><td>0.4093</td><td>0.07976</td><td>16000.0</td><td>5.13</td><td>&lt;.0001</td></tr><tr><th>6</th><td>FeatureOnly</td><td>0.3141</td><td>0.04259</td><td>16000.0</td><td>7.37</td><td>&lt;.0001</td></tr><tr><th>7</th><td>LogSeason</td><td>0.585</td><td>0.07118</td><td>16000.0</td><td>8.22</td><td>&lt;.0001</td></tr><tr><th>8</th><td>AbsPrice19</td><td>-0.00608</td><td>0.03352</td><td>16000.0</td><td>-0.18</td><td>0.8560</td></tr><tr><th>9</th><td>Lift19</td><td>0.04031</td><td>0.0676</td><td>16000.0</td><td>0.6</td><td>0.5510</td></tr><tr><th>10</th><td>AbsPrice220</td><td>-1.2214</td><td>0.6672</td><td>16000.0</td><td>-1.83</td><td>0.0672</td></tr><tr><th>11</th><td>Lift220</td><td>-0.1021</td><td>0.02058</td><td>16000.0</td><td>-4.96</td><td>&lt;.0001</td></tr><tr><th>12</th><td>AbsPrice178</td><td>0.76</td><td>0.2014</td><td>16000.0</td><td>3.77</td><td>0.0002</td></tr><tr><th>13</th><td>Lift178</td><td>0.1431</td><td>0.05451</td><td>16000.0</td><td>2.63</td><td>0.0086</td></tr><tr><th>14</th><td>AbsPrice132</td><td>0.4144</td><td>0.3703</td><td>16000.0</td><td>1.12</td><td>0.2631</td></tr><tr><th>15</th><td>Lift132</td><td>0.02048</td><td>0.07281</td><td>16000.0</td><td>0.28</td><td>0.7785</td></tr><tr><th>16</th><td>AbsPrice131</td><td>0.8563</td><td>0.3786</td><td>16000.0</td><td>2.26</td><td>0.0237</td></tr><tr><th>17</th><td>Lift131</td><td>-0.0382</td><td>0.06814</td><td>16000.0</td><td>-0.56</td><td>0.5751</td></tr><tr><th>18</th><td>AbsPrice191</td><td>0.4121</td><td>0.1873</td><td>16000.0</td><td>2.2</td><td>0.0278</td></tr><tr><th>19</th><td>Lift191</td><td>-0.1448</td><td>0.0513</td><td>16000.0</td><td>-2.82</td><td>0.0048</td></tr><tr><th>20</th><td>AbsPrice31</td><td>0.1078</td><td>0.1204</td><td>16000.0</td><td>0.9</td><td>0.3706</td></tr><tr><th>21</th><td>Lift31</td><td>-0.09875</td><td>0.2536</td><td>16000.0</td><td>-0.39</td><td>0.6970</td></tr><tr><th>22</th><td>AbsPrice95</td><td>-0.3147</td><td>0.2063</td><td>16000.0</td><td>-1.53</td><td>0.1272</td></tr><tr><th>23</th><td>Lift95</td><td>0.07806</td><td>0.06476</td><td>16000.0</td><td>1.21</td><td>0.2281</td></tr><tr><th>24</th><td>AbsPrice140</td><td>0.4941</td><td>0.2298</td><td>16000.0</td><td>2.15</td><td>0.0315</td></tr><tr><th>25</th><td>Lift140</td><td>0.003889</td><td>0.04421</td><td>16000.0</td><td>0.09</td><td>0.9299</td></tr><tr><th>26</th><td>AbsPrice139</td><td>0.09093</td><td>0.1804</td><td>16000.0</td><td>0.5</td><td>0.6142</td></tr><tr><th>27</th><td>Lift139</td><td>-0.08647</td><td>0.0407</td><td>16000.0</td><td>-2.12</td><td>0.0337</td></tr><tr><th>28</th><td>AbsPrice233</td><td>-0.107</td><td>0.1725</td><td>16000.0</td><td>-0.62</td><td>0.5351</td></tr><tr><th>29</th><td>Lift233</td><td>-0.01226</td><td>0.02527</td><td>16000.0</td><td>-0.48</td><td>0.6277</td></tr><tr><th>30</th><td>AbsPrice289</td><td>-0.09093</td><td>0.1001</td><td>16000.0</td><td>-0.91</td><td>0.3638</td></tr><tr><th>&vellip;</th><td>&vellip;</td><td>&vellip;</td><td>&vellip;</td><td>&vellip;</td><td>&vellip;</td><td>&vellip;</td></tr></tbody></table>"
      ],
      "text/plain": [
       "67×6 DataFrames.DataFrame\n",
       "│ Row │ Effect           │ Estimate │ StdErr   │ DF      │ tValue │ Probt    │\n",
       "├─────┼──────────────────┼──────────┼──────────┼─────────┼────────┼──────────┤\n",
       "│ 1   │ \"Intercept\"      │ 2.04e-15 │ 0.003995 │ 316.0   │ 0.0    │ \"1.0000\" │\n",
       "│ 2   │ \"LogRegPrice\"    │ -1.3186  │ 0.1135   │ 16000.0 │ -11.61 │ \"<.0001\" │\n",
       "│ 3   │ \"LogPriceIndex\"  │ -1.249   │ 0.07779  │ 16000.0 │ -16.06 │ \"<.0001\" │\n",
       "│ 4   │ \"DisplayOnly\"    │ 0.2037   │ 0.03186  │ 16000.0 │ 6.4    │ \"<.0001\" │\n",
       "│ 5   │ \"FeatureDisplay\" │ 0.4093   │ 0.07976  │ 16000.0 │ 5.13   │ \"<.0001\" │\n",
       "│ 6   │ \"FeatureOnly\"    │ 0.3141   │ 0.04259  │ 16000.0 │ 7.37   │ \"<.0001\" │\n",
       "│ 7   │ \"LogSeason\"      │ 0.585    │ 0.07118  │ 16000.0 │ 8.22   │ \"<.0001\" │\n",
       "│ 8   │ \"AbsPrice19\"     │ -0.00608 │ 0.03352  │ 16000.0 │ -0.18  │ \"0.8560\" │\n",
       "│ 9   │ \"Lift19\"         │ 0.04031  │ 0.0676   │ 16000.0 │ 0.6    │ \"0.5510\" │\n",
       "│ 10  │ \"AbsPrice220\"    │ -1.2214  │ 0.6672   │ 16000.0 │ -1.83  │ \"0.0672\" │\n",
       "│ 11  │ \"Lift220\"        │ -0.1021  │ 0.02058  │ 16000.0 │ -4.96  │ \"<.0001\" │\n",
       "⋮\n",
       "│ 56  │ \"AbsPrice299\"    │ 0.2889   │ 0.1644   │ 16000.0 │ 1.76   │ \"0.0788\" │\n",
       "│ 57  │ \"Lift299\"        │ 0.04646  │ 0.03406  │ 16000.0 │ 1.36   │ \"0.1726\" │\n",
       "│ 58  │ \"AbsPrice229\"    │ -0.07134 │ 0.09234  │ 16000.0 │ -0.77  │ \"0.4398\" │\n",
       "│ 59  │ \"Lift229\"        │ -0.05041 │ 0.05857  │ 16000.0 │ -0.86  │ \"0.3894\" │\n",
       "│ 60  │ \"AbsPrice309\"    │ 0.3329   │ 0.1722   │ 16000.0 │ 1.93   │ \"0.0532\" │\n",
       "│ 61  │ \"Lift309\"        │ -0.04913 │ 0.02167  │ 16000.0 │ -2.27  │ \"0.0234\" │\n",
       "│ 62  │ \"AbsPrice231\"    │ -0.1127  │ 0.07785  │ 16000.0 │ -1.45  │ \"0.1476\" │\n",
       "│ 63  │ \"Lift231\"        │ -0.02022 │ 0.02039  │ 16000.0 │ -0.99  │ \"0.3214\" │\n",
       "│ 64  │ \"AbsPrice298\"    │ 0.08939  │ 0.09562  │ 16000.0 │ 0.93   │ \"0.3499\" │\n",
       "│ 65  │ \"Lift298\"        │ -0.01834 │ 0.01854  │ 16000.0 │ -0.99  │ \"0.3226\" │\n",
       "│ 66  │ \"AbsPrice311\"    │ -0.5359  │ 0.3283   │ 16000.0 │ -1.63  │ \"0.1026\" │\n",
       "│ 67  │ \"Lift311\"        │ 0.02539  │ 0.02898  │ 16000.0 │ 0.88   │ \"0.3811\" │"
      ]
     },
     "execution_count": 1,
     "metadata": {},
     "output_type": "execute_result"
    }
   ],
   "source": [
    "\n",
    "using DataFrames, MixedModels,StatLib\n",
    "dfx = readtable(\"/home/iriadmin/g/JLib/src/RnD/reg/fix_LMM_v3.0/inputs/mctargetgrus00115.csv\")\n",
    "dfs=readtable(\"/home/iriadmin/g/JLib/src/RnD/reg/fix_LMM_v3.0/sas_output/fixed1_grus00115.csv\")\n",
    "#mctargetgrus00147.csv  mctargetgrus00247.csv  mctargetgrus00256.csv \n",
    "#Sample 1:for ppgid :115 region: US outlet: GR    \n"
   ]
  },
  {
   "cell_type": "code",
   "execution_count": 15,
   "metadata": {},
   "outputs": [],
   "source": [
    "lowercase!(dfx)\n",
    "for col in[:weekending, :outlet, :region] dfx[col] = pool(dfx[col]) end\n",
    "\n",
    "\n",
    "f = logvolume ~ 1 + logregprice + logpriceindex + displayonly + featuredisplay + featureonly + logseason + absprice19 + lift19 + absprice220 + lift220 + absprice178 + lift178 + absprice132 + lift132 + absprice131 + lift131 + absprice191 + lift191 + absprice95 + lift95 + absprice140 + lift140 + absprice139 + lift139 + absprice31 + lift31 + absprice233 + lift233 + absprice289 + lift289 + absprice275 + lift275 + absprice236 + lift236 + absprice230 + lift230 + absprice235 + lift235 + absprice246 + lift246 + absprice265 + lift265 + absprice290 + lift290 + absprice239 + lift239 + absprice7 + lift7 + absprice305 + lift305 + absprice322 + lift322 + absprice302 + lift302 + absprice299 + lift299 + absprice229 + lift229 + absprice309 + lift309 + absprice231 + lift231 + absprice298 + lift298 + absprice311 + lift311 + \n",
    "( ( 0 + logregprice ) | store ) + \n",
    "( ( 0 + logpriceindex ) | store ) + \n",
    "( ( 0 + displayonly ) | store ) + \n",
    "( ( 0 + featuredisplay ) | store ) + \n",
    "( ( 0 + featureonly ) | store ) + \n",
    "( ( 0 + logseason ) | store )\n",
    "\n",
    "\n"
   ]
  },
  {
   "cell_type": "code",
   "execution_count": null,
   "metadata": {},
   "outputs": [],
   "source": [
    "dfx[:logvolumeStore] = dfx[:logvolume].*dfx[:store]\n",
    "dfx[:logregpriceStore] = dfx[:logregprice].*dfx[:store]\n",
    "dfx[:logpriceindexStore] = dfx[:logpriceindex].*dfx[:store]\n",
    "dfx[:displayonlyStore] = dfx[:displayonly].*dfx[:store]\n",
    "dfx[:featuredisplayStore] = dfx[:featuredisplay].*dfx[:store]\n",
    "dfx[:featureonlyStore] = dfx[:featureonly].*dfx[:store]\n",
    "dfx[:logseasonStore] = dfx[:logseason].*dfx[:store]"
   ]
  },
  {
   "cell_type": "code",
   "execution_count": null,
   "metadata": {},
   "outputs": [],
   "source": [
    "f = logvolume ~ 1 + logregprice + logpriceindex + lift311 + ( ( 0 + logregprice ) | store ) \n",
    "\n",
    "m=fit!(lmm(f, dfx), true)\n",
    "\n",
    "\n",
    "\n",
    "mx = lmm(f, dfx)\n",
    "reml!(mx,true)\n",
    "m = fit(mx)\n",
    "@time m1 = fit!(lmm(Y ~ 1 + (1|G) + (1|H), ml1m))\n",
    "fit!(lmm(f, dfx), true)\n",
    "gmm1 = fit!(glmm(f, dfd[(dfd[:buyer_pos_p1].==1),cols] , m[:dist], m[:lnk]), verbose=false, fast=true)\n",
    "glm(f, dfd[(dfd[:buyer_pos_p1].==1),cols] , m[:dist], m[:lnk])"
   ]
  },
  {
   "cell_type": "code",
   "execution_count": 12,
   "metadata": {},
   "outputs": [
    {
     "data": {
      "text/plain": [
       "16662-element DataArrays.DataArray{Float64,1}:\n",
       "  -1200.21 \n",
       "  -1628.72 \n",
       "  -1603.45 \n",
       "  -1377.1  \n",
       "  -1755.61 \n",
       "  -2083.17 \n",
       "  -2273.24 \n",
       "  -2110.93 \n",
       "  -2176.16 \n",
       "  -3343.69 \n",
       "   -976.804\n",
       "   -335.362\n",
       "   1297.1  \n",
       "      ⋮    \n",
       "  14706.9  \n",
       "  12403.3  \n",
       "  10018.0  \n",
       "  -5310.42 \n",
       " -17032.1  \n",
       "   1889.16 \n",
       "   4554.76 \n",
       "  -4868.71 \n",
       "    514.435\n",
       "  -8519.35 \n",
       "  11730.9  \n",
       "  11730.9  "
      ]
     },
     "execution_count": 12,
     "metadata": {},
     "output_type": "execute_result"
    }
   ],
   "source": [
    "#logvolume\n",
    "#( ( 0 + logregprice ) | store ) + \n",
    "#( ( 0 + logpriceindex ) | store ) + \n",
    "#( ( 0 + displayonly ) | store ) + \n",
    "#( ( 0 + featuredisplay ) | store ) + \n",
    "#( ( 0 + featureonly ) | store ) + \n",
    "#( ( 0 + logseason ) | store )\n",
    "#a=:logvolume in names(dfx); println(a)\n",
    "#a=:logregprice in names(dfx); println(a)\n",
    "#a=:logpriceindex in names(dfx); println(a)\n",
    "#a=:displayonly in names(dfx); println(a)\n",
    "#a=:featuredisplay in names(dfx); println(a)\n",
    "#a=:featureonly in names(dfx); println(a)\n",
    "#a=:logseason in names(dfx); println(a)\n",
    "#a=:store in names(dfx); println(a)\n",
    "\n",
    "dfx[:logvolumeStore] = dfx[:logvolume].*dfx[:store]\n",
    "dfx[:logregpriceStore] = dfx[:logregprice].*dfx[:store]\n",
    "dfx[:logpriceindexStore] = dfx[:logpriceindex].*dfx[:store]\n",
    "dfx[:displayonlyStore] = dfx[:displayonly].*dfx[:store]\n",
    "dfx[:featuredisplayStore] = dfx[:featuredisplay].*dfx[:store]\n",
    "dfx[:featureonlyStore] = dfx[:featureonly].*dfx[:store]\n",
    "dfx[:logseasonStore] = dfx[:logseason].*dfx[:store]\n"
   ]
  },
  {
   "cell_type": "code",
   "execution_count": 14,
   "metadata": {},
   "outputs": [
    {
     "ename": "LoadError",
     "evalue": "ArgumentError: Formula: logvolume ~ 1 + logregprice + logpriceindex + displayonly + featuredisplay + featureonly + logseason + absprice19 + lift19 + absprice220 + lift220 + absprice178 + lift178 + absprice132 + lift132 + absprice131 + lift131 + absprice191 + lift191 + absprice95 + lift95 + absprice140 + lift140 + absprice139 + lift139 + absprice31 + lift31 + absprice233 + lift233 + absprice289 + lift289 + absprice275 + lift275 + absprice236 + lift236 + absprice230 + lift230 + absprice235 + lift235 + absprice246 + lift246 + absprice265 + lift265 + absprice290 + lift290 + absprice239 + lift239 + absprice7 + lift7 + absprice305 + lift305 + absprice322 + lift322 + absprice302 + lift302 + absprice299 + lift299 + absprice229 + lift229 + absprice309 + lift309 + absprice231 + lift231 + absprice298 + lift298 + absprice311 + lift311 + (0 + logregpriceStore) + (0 + logpriceindexStore) + (0 + displayonlyStore) + (0 + featuredisplayStore) + (0 + featureonlyStore) + (0 + logseasonStore) has no random-effects terms",
     "output_type": "error",
     "traceback": [
      "ArgumentError: Formula: logvolume ~ 1 + logregprice + logpriceindex + displayonly + featuredisplay + featureonly + logseason + absprice19 + lift19 + absprice220 + lift220 + absprice178 + lift178 + absprice132 + lift132 + absprice131 + lift131 + absprice191 + lift191 + absprice95 + lift95 + absprice140 + lift140 + absprice139 + lift139 + absprice31 + lift31 + absprice233 + lift233 + absprice289 + lift289 + absprice275 + lift275 + absprice236 + lift236 + absprice230 + lift230 + absprice235 + lift235 + absprice246 + lift246 + absprice265 + lift265 + absprice290 + lift290 + absprice239 + lift239 + absprice7 + lift7 + absprice305 + lift305 + absprice322 + lift322 + absprice302 + lift302 + absprice299 + lift299 + absprice229 + lift229 + absprice309 + lift309 + absprice231 + lift231 + absprice298 + lift298 + absprice311 + lift311 + (0 + logregpriceStore) + (0 + logpriceindexStore) + (0 + displayonlyStore) + (0 + featuredisplayStore) + (0 + featureonlyStore) + (0 + logseasonStore) has no random-effects terms",
      "",
      " in #lmm#10(::Array{Any,1}, ::Function, ::DataFrames.Formula, ::DataFrames.DataFrame) at /home/iriadmin/.julia/v0.5/MixedModels/src/pls.jl:169",
      " in lmm(::DataFrames.Formula, ::DataFrames.DataFrame) at /home/iriadmin/.julia/v0.5/MixedModels/src/pls.jl:164"
     ]
    }
   ],
   "source": [
    "f = logvolume ~ 1 + logregprice + logpriceindex + displayonly + featuredisplay + featureonly + logseason + absprice19 + lift19 + absprice220 + lift220 + absprice178 + lift178 + absprice132 + lift132 + absprice131 + lift131 + absprice191 + lift191 + absprice95 + lift95 + absprice140 + lift140 + absprice139 + lift139 + absprice31 + lift31 + absprice233 + lift233 + absprice289 + lift289 + absprice275 + lift275 + absprice236 + lift236 + absprice230 + lift230 + absprice235 + lift235 + absprice246 + lift246 + absprice265 + lift265 + absprice290 + lift290 + absprice239 + lift239 + absprice7 + lift7 + absprice305 + lift305 + absprice322 + lift322 + absprice302 + lift302 + absprice299 + lift299 + absprice229 + lift229 + absprice309 + lift309 + absprice231 + lift231 + absprice298 + lift298 + absprice311 + lift311 + \n",
    "( 0 + logregpriceStore ) + \n",
    "( 0 + logpriceindexStore )  + \n",
    "( 0 + displayonlyStore )  + \n",
    "( 0 + featuredisplayStore ) + \n",
    "( 0 + featureonlyStore ) + \n",
    "( 0 + logseasonStore ) \n",
    "\n",
    "m=fit!(lmm(f, dfx), true)"
   ]
  },
  {
   "cell_type": "code",
   "execution_count": 11,
   "metadata": {},
   "outputs": [
    {
     "data": {
      "text/plain": [
       "16662-element DataArrays.DataArray{Float64,1}:\n",
       " -0.152639 \n",
       " -0.152639 \n",
       " -0.152639 \n",
       " -0.152639 \n",
       " -0.152639 \n",
       " -0.152639 \n",
       " -0.152639 \n",
       " -0.152639 \n",
       " -0.152639 \n",
       " -0.152639 \n",
       " -0.152639 \n",
       " -0.152639 \n",
       " -0.152639 \n",
       "  ⋮        \n",
       "  0.0990068\n",
       "  0.0990068\n",
       "  0.0990068\n",
       "  0.0990068\n",
       "  0.0      \n",
       "  0.0      \n",
       "  0.0      \n",
       "  0.0      \n",
       "  0.0      \n",
       "  0.0      \n",
       "  0.0      \n",
       "  0.0      "
      ]
     },
     "execution_count": 11,
     "metadata": {},
     "output_type": "execute_result"
    }
   ],
   "source": [
    "dfx[:logregprice]"
   ]
  },
  {
   "cell_type": "code",
   "execution_count": 4,
   "metadata": {},
   "outputs": [
    {
     "name": "stdout",
     "output_type": "stream",
     "text": [
      "16662×118 DataFrames.DataFrame\n",
      "│ Col # │ Name               │ Eltype  │ Missing │\n",
      "├───────┼────────────────────┼─────────┼─────────┤\n",
      "│ 1     │ store              │ Int64   │ 0       │\n",
      "│ 2     │ weekending         │ String  │ 0       │\n",
      "│ 3     │ units              │ Int64   │ 0       │\n",
      "│ 4     │ upc                │ Int64   │ 0       │\n",
      "│ 5     │ featureonly        │ Float64 │ 0       │\n",
      "│ 6     │ displayonly        │ Float64 │ 0       │\n",
      "│ 7     │ featuredisplay     │ Float64 │ 0       │\n",
      "│ 8     │ multqty            │ Int64   │ 0       │\n",
      "│ 9     │ outlet             │ String  │ 0       │\n",
      "│ 10    │ region             │ String  │ 0       │\n",
      "│ 11    │ categoryid         │ Int64   │ 0       │\n",
      "│ 12    │ volume             │ Float64 │ 0       │\n",
      "│ 13    │ price              │ Float64 │ 0       │\n",
      "│ 14    │ priu               │ Float64 │ 0       │\n",
      "│ 15    │ basepriu           │ Float64 │ 0       │\n",
      "│ 16    │ baseprice          │ Float64 │ 0       │\n",
      "│ 17    │ trendindex         │ Float64 │ 0       │\n",
      "│ 18    │ cattrendindex      │ Float64 │ 0       │\n",
      "│ 19    │ regpriu            │ Float64 │ 0       │\n",
      "│ 20    │ regprice           │ Float64 │ 0       │\n",
      "│ 21    │ mfrid              │ Int64   │ 0       │\n",
      "│ 22    │ brandid            │ Int64   │ 0       │\n",
      "│ 23    │ ppgid              │ Int64   │ 0       │\n",
      "│ 24    │ weekofyear         │ Int64   │ 0       │\n",
      "│ 25    │ hldy_ea_lg         │ Int64   │ 0       │\n",
      "│ 26    │ hldy_ea_hw         │ Int64   │ 0       │\n",
      "│ 27    │ hldy_me_lg         │ Int64   │ 0       │\n",
      "│ 28    │ hldy_me_hw         │ Int64   │ 0       │\n",
      "│ 29    │ hldy_id_lg         │ Int64   │ 0       │\n",
      "│ 30    │ hldy_id_hw         │ Int64   │ 0       │\n",
      "│ 31    │ hldy_la_lg         │ Int64   │ 0       │\n",
      "│ 32    │ hldy_la_hw         │ Int64   │ 0       │\n",
      "│ 33    │ hldy_ha_lg         │ Int64   │ 0       │\n",
      "│ 34    │ hldy_ha_hw         │ Int64   │ 0       │\n",
      "│ 35    │ hldy_tx_lg         │ Int64   │ 0       │\n",
      "│ 36    │ hldy_tx_hw         │ Int64   │ 0       │\n",
      "│ 37    │ hldy_xm_lg         │ Int64   │ 0       │\n",
      "│ 38    │ hldy_xm_hw         │ Int64   │ 0       │\n",
      "│ 39    │ hldy_ny_lg         │ Int64   │ 0       │\n",
      "│ 40    │ hldy_ny_hw         │ Int64   │ 0       │\n",
      "│ 41    │ hldy_su_lg         │ Int64   │ 0       │\n",
      "│ 42    │ hldy_su_hw         │ Int64   │ 0       │\n",
      "│ 43    │ hldy_va_lg         │ Int64   │ 0       │\n",
      "│ 44    │ hldy_va_hw         │ Int64   │ 0       │\n",
      "│ 45    │ logholidayindex    │ Float64 │ 0       │\n",
      "│ 46    │ logweekofyearindex │ Float64 │ 0       │\n",
      "│ 47    │ lift7              │ Float64 │ 0       │\n",
      "│ 48    │ lift19             │ Float64 │ 0       │\n",
      "│ 49    │ lift31             │ Float64 │ 0       │\n",
      "│ 50    │ lift95             │ Float64 │ 0       │\n",
      "│ 51    │ lift131            │ Float64 │ 0       │\n",
      "│ 52    │ lift132            │ Float64 │ 0       │\n",
      "│ 53    │ lift139            │ Float64 │ 0       │\n",
      "│ 54    │ lift140            │ Float64 │ 0       │\n",
      "│ 55    │ lift178            │ Float64 │ 0       │\n",
      "│ 56    │ lift191            │ Float64 │ 0       │\n",
      "│ 57    │ lift220            │ Float64 │ 0       │\n",
      "│ 58    │ lift229            │ Float64 │ 0       │\n",
      "│ 59    │ lift230            │ Float64 │ 0       │\n",
      "│ 60    │ lift231            │ Float64 │ 0       │\n",
      "│ 61    │ lift233            │ Float64 │ 0       │\n",
      "│ 62    │ lift235            │ Float64 │ 0       │\n",
      "│ 63    │ lift236            │ Float64 │ 0       │\n",
      "│ 64    │ lift239            │ Float64 │ 0       │\n",
      "│ 65    │ lift246            │ Float64 │ 0       │\n",
      "│ 66    │ lift265            │ Float64 │ 0       │\n",
      "│ 67    │ lift275            │ Float64 │ 0       │\n",
      "│ 68    │ lift289            │ Float64 │ 0       │\n",
      "│ 69    │ lift290            │ Float64 │ 0       │\n",
      "│ 70    │ lift298            │ Float64 │ 0       │\n",
      "│ 71    │ lift299            │ Float64 │ 0       │\n",
      "│ 72    │ lift302            │ Float64 │ 0       │\n",
      "│ 73    │ lift305            │ Float64 │ 0       │\n",
      "│ 74    │ lift309            │ Float64 │ 0       │\n",
      "│ 75    │ lift311            │ Float64 │ 0       │\n",
      "│ 76    │ lift322            │ Float64 │ 0       │\n",
      "│ 77    │ absprice7          │ Float64 │ 0       │\n",
      "│ 78    │ absprice19         │ Float64 │ 0       │\n",
      "│ 79    │ absprice31         │ Float64 │ 0       │\n",
      "│ 80    │ absprice95         │ Float64 │ 0       │\n",
      "│ 81    │ absprice131        │ Float64 │ 0       │\n",
      "│ 82    │ absprice132        │ Float64 │ 0       │\n",
      "│ 83    │ absprice139        │ Float64 │ 0       │\n",
      "│ 84    │ absprice140        │ Float64 │ 0       │\n",
      "│ 85    │ absprice178        │ Float64 │ 0       │\n",
      "│ 86    │ absprice191        │ Float64 │ 0       │\n",
      "│ 87    │ absprice220        │ Float64 │ 0       │\n",
      "│ 88    │ absprice229        │ Float64 │ 0       │\n",
      "│ 89    │ absprice230        │ Float64 │ 0       │\n",
      "│ 90    │ absprice231        │ Float64 │ 0       │\n",
      "│ 91    │ absprice233        │ Float64 │ 0       │\n",
      "│ 92    │ absprice235        │ Float64 │ 0       │\n",
      "│ 93    │ absprice236        │ Float64 │ 0       │\n",
      "│ 94    │ absprice239        │ Float64 │ 0       │\n",
      "│ 95    │ absprice246        │ Float64 │ 0       │\n",
      "│ 96    │ absprice265        │ Float64 │ 0       │\n",
      "│ 97    │ absprice275        │ Float64 │ 0       │\n",
      "│ 98    │ absprice289        │ Float64 │ 0       │\n",
      "│ 99    │ absprice290        │ Float64 │ 0       │\n",
      "│ 100   │ absprice298        │ Float64 │ 0       │\n",
      "│ 101   │ absprice299        │ Float64 │ 0       │\n",
      "│ 102   │ absprice302        │ Float64 │ 0       │\n",
      "│ 103   │ absprice305        │ Float64 │ 0       │\n",
      "│ 104   │ absprice309        │ Float64 │ 0       │\n",
      "│ 105   │ absprice311        │ Float64 │ 0       │\n",
      "│ 106   │ absprice322        │ Float64 │ 0       │\n",
      "│ 107   │ logvolume          │ Float64 │ 0       │\n",
      "│ 108   │ logunits           │ Float64 │ 0       │\n",
      "│ 109   │ discount           │ Float64 │ 0       │\n",
      "│ 110   │ logpriceindex      │ Float64 │ 0       │\n",
      "│ 111   │ logseason          │ Float64 │ 0       │\n",
      "│ 112   │ logprice           │ Float64 │ 0       │\n",
      "│ 113   │ logregprice        │ Float64 │ 0       │\n",
      "│ 114   │ logbaseprice       │ Float64 │ 0       │\n",
      "│ 115   │ logpriu            │ Float64 │ 0       │\n",
      "│ 116   │ logregpriu         │ Float64 │ 0       │\n",
      "│ 117   │ logbasepriu        │ Float64 │ 0       │\n",
      "│ 118   │ logspecialpack     │ Int64   │ 0       │"
     ]
    }
   ],
   "source": [
    "showcols(dfx)"
   ]
  },
  {
   "cell_type": "code",
   "execution_count": null,
   "metadata": {},
   "outputs": [],
   "source": []
  },
  {
   "cell_type": "code",
   "execution_count": null,
   "metadata": {},
   "outputs": [],
   "source": []
  },
  {
   "cell_type": "code",
   "execution_count": null,
   "metadata": {},
   "outputs": [],
   "source": []
  }
 ],
 "metadata": {
  "kernelspec": {
   "display_name": "Julia 0.5.0",
   "language": "julia",
   "name": "julia-0.5"
  },
  "language_info": {
   "file_extension": ".jl",
   "mimetype": "application/julia",
   "name": "julia",
   "version": "0.5.0"
  }
 },
 "nbformat": 4,
 "nbformat_minor": 1
}
