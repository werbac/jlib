{
 "cells": [
  {
   "cell_type": "code",
   "execution_count": 6,
   "metadata": {},
   "outputs": [
    {
     "name": "stderr",
     "output_type": "stream",
     "text": [
      "\u001b[1m\u001b[34mINFO: Precompiling module DataStructures.\n",
      "\u001b[0m\u001b[1m\u001b[31mWARNING: Module Compat with uuid 21160049923148501 is missing from the cache.\n",
      "This may mean module Compat does not support precompilation but is imported by a module that does.\u001b[0m\n",
      "\u001b[1m\u001b[31mERROR: LoadError: Declaring __precompile__(false) is not allowed in files that are being precompiled.\n",
      " in require(::Symbol) at ./loading.jl:385\n",
      " in include_from_node1(::String) at ./loading.jl:488\n",
      " in macro expansion; at ./none:2 [inlined]\n",
      " in anonymous at ./<missing>:?\n",
      " in eval(::Module, ::Any) at ./boot.jl:234\n",
      " in process_options(::Base.JLOptions) at ./client.jl:239\n",
      " in _start() at ./client.jl:318\n",
      "while loading /mapr/mapr04p/analytics0001/analytic_users/jpkg/v0.5/DataStructures/src/DataStructures.jl, in expression starting on line 5\n",
      "\u001b[0m"
     ]
    },
    {
     "ename": "LoadError",
     "evalue": "Failed to precompile DataStructures to /mapr/mapr04p/analytics0001/analytic_users/jpkg/lib/v0.5/DataStructures.ji.",
     "output_type": "error",
     "traceback": [
      "Failed to precompile DataStructures to /mapr/mapr04p/analytics0001/analytic_users/jpkg/lib/v0.5/DataStructures.ji.",
      "",
      " in compilecache(::String) at ./loading.jl:593",
      " in require(::Symbol) at ./loading.jl:422"
     ]
    }
   ],
   "source": [
    "#sed -i  's/\\\\N/0/g' orig.csv\n",
    "ENV[\"JULIA_PKGDIR\"] = \"/mapr/mapr04p/analytics0001/analytic_users/jpkg\" \n",
    "@everywhere insert!(Base.LOAD_CACHE_PATH, 1, \"/mapr/mapr04p/analytics0001/analytic_users/jpkg/lib/v0.5\")\n",
    "@everywhere pop!(Base.LOAD_CACHE_PATH)\n",
    "using DataStructures, DataArrays , DataFrames, StatsFuns, GLM , Distributions, MixedModels, StatsBase, JSON, StatLib, NamedArrays, JuMP, NLopt, NLsolve\n",
    "@everywhere using DataStructures, DataArrays , DataFrames, StatsFuns, GLM , Distributions, MixedModels, StatsBase, JSON, StatLib, NamedArrays, JuMP, NLopt, NLsolve\n",
    "root = !isdefined(:root) ? pwd() : root\n",
    "MP = !isdefined(:MP) ? false : MP\n"
   ]
  },
  {
   "cell_type": "code",
   "execution_count": 5,
   "metadata": {},
   "outputs": [
    {
     "data": {
      "text/html": [
       "<table class=\"data-frame\"><thead><tr><th></th><th>SepalLength</th><th>SepalWidth</th><th>PetalLength</th><th>PetalWidth</th><th>Species</th><th>id</th></tr></thead><tbody><tr><th>1</th><td>5.1</td><td>3.5</td><td>1.4</td><td>0.2</td><td>setosa</td><td>1</td></tr><tr><th>2</th><td>4.9</td><td>3.0</td><td>1.4</td><td>0.2</td><td>setosa</td><td>2</td></tr><tr><th>3</th><td>4.7</td><td>3.2</td><td>1.3</td><td>0.2</td><td>setosa</td><td>3</td></tr><tr><th>4</th><td>4.6</td><td>3.1</td><td>1.5</td><td>0.2</td><td>setosa</td><td>4</td></tr><tr><th>5</th><td>5.0</td><td>3.6</td><td>1.4</td><td>0.2</td><td>setosa</td><td>5</td></tr><tr><th>6</th><td>5.4</td><td>3.9</td><td>1.7</td><td>0.4</td><td>setosa</td><td>6</td></tr><tr><th>7</th><td>4.6</td><td>3.4</td><td>1.4</td><td>0.3</td><td>setosa</td><td>7</td></tr><tr><th>8</th><td>5.0</td><td>3.4</td><td>1.5</td><td>0.2</td><td>setosa</td><td>8</td></tr><tr><th>9</th><td>4.4</td><td>2.9</td><td>1.4</td><td>0.2</td><td>setosa</td><td>9</td></tr><tr><th>10</th><td>4.9</td><td>3.1</td><td>1.5</td><td>0.1</td><td>setosa</td><td>10</td></tr><tr><th>11</th><td>5.4</td><td>3.7</td><td>1.5</td><td>0.2</td><td>setosa</td><td>11</td></tr><tr><th>12</th><td>4.8</td><td>3.4</td><td>1.6</td><td>0.2</td><td>setosa</td><td>12</td></tr><tr><th>13</th><td>4.8</td><td>3.0</td><td>1.4</td><td>0.1</td><td>setosa</td><td>13</td></tr><tr><th>14</th><td>4.3</td><td>3.0</td><td>1.1</td><td>0.1</td><td>setosa</td><td>14</td></tr><tr><th>15</th><td>5.8</td><td>4.0</td><td>1.2</td><td>0.2</td><td>setosa</td><td>15</td></tr><tr><th>16</th><td>5.7</td><td>4.4</td><td>1.5</td><td>0.4</td><td>setosa</td><td>16</td></tr><tr><th>17</th><td>5.4</td><td>3.9</td><td>1.3</td><td>0.4</td><td>setosa</td><td>17</td></tr><tr><th>18</th><td>5.1</td><td>3.5</td><td>1.4</td><td>0.3</td><td>setosa</td><td>18</td></tr><tr><th>19</th><td>5.7</td><td>3.8</td><td>1.7</td><td>0.3</td><td>setosa</td><td>19</td></tr><tr><th>20</th><td>5.1</td><td>3.8</td><td>1.5</td><td>0.3</td><td>setosa</td><td>20</td></tr><tr><th>21</th><td>5.4</td><td>3.4</td><td>1.7</td><td>0.2</td><td>setosa</td><td>21</td></tr><tr><th>22</th><td>5.1</td><td>3.7</td><td>1.5</td><td>0.4</td><td>setosa</td><td>22</td></tr><tr><th>23</th><td>4.6</td><td>3.6</td><td>1.0</td><td>0.2</td><td>setosa</td><td>23</td></tr><tr><th>24</th><td>5.1</td><td>3.3</td><td>1.7</td><td>0.5</td><td>setosa</td><td>24</td></tr><tr><th>25</th><td>4.8</td><td>3.4</td><td>1.9</td><td>0.2</td><td>setosa</td><td>25</td></tr><tr><th>26</th><td>5.0</td><td>3.0</td><td>1.6</td><td>0.2</td><td>setosa</td><td>26</td></tr><tr><th>27</th><td>5.0</td><td>3.4</td><td>1.6</td><td>0.4</td><td>setosa</td><td>27</td></tr><tr><th>28</th><td>5.2</td><td>3.5</td><td>1.5</td><td>0.2</td><td>setosa</td><td>28</td></tr><tr><th>29</th><td>5.2</td><td>3.4</td><td>1.4</td><td>0.2</td><td>setosa</td><td>29</td></tr><tr><th>30</th><td>4.7</td><td>3.2</td><td>1.6</td><td>0.2</td><td>setosa</td><td>30</td></tr><tr><th>&vellip;</th><td>&vellip;</td><td>&vellip;</td><td>&vellip;</td><td>&vellip;</td><td>&vellip;</td><td>&vellip;</td></tr></tbody></table>"
      ],
      "text/plain": [
       "150×6 DataFrames.DataFrame\n",
       "│ Row │ SepalLength │ SepalWidth │ PetalLength │ PetalWidth │ Species     │\n",
       "├─────┼─────────────┼────────────┼─────────────┼────────────┼─────────────┤\n",
       "│ 1   │ 5.1         │ 3.5        │ 1.4         │ 0.2        │ \"setosa\"    │\n",
       "│ 2   │ 4.9         │ 3.0        │ 1.4         │ 0.2        │ \"setosa\"    │\n",
       "│ 3   │ 4.7         │ 3.2        │ 1.3         │ 0.2        │ \"setosa\"    │\n",
       "│ 4   │ 4.6         │ 3.1        │ 1.5         │ 0.2        │ \"setosa\"    │\n",
       "│ 5   │ 5.0         │ 3.6        │ 1.4         │ 0.2        │ \"setosa\"    │\n",
       "│ 6   │ 5.4         │ 3.9        │ 1.7         │ 0.4        │ \"setosa\"    │\n",
       "│ 7   │ 4.6         │ 3.4        │ 1.4         │ 0.3        │ \"setosa\"    │\n",
       "│ 8   │ 5.0         │ 3.4        │ 1.5         │ 0.2        │ \"setosa\"    │\n",
       "│ 9   │ 4.4         │ 2.9        │ 1.4         │ 0.2        │ \"setosa\"    │\n",
       "│ 10  │ 4.9         │ 3.1        │ 1.5         │ 0.1        │ \"setosa\"    │\n",
       "│ 11  │ 5.4         │ 3.7        │ 1.5         │ 0.2        │ \"setosa\"    │\n",
       "⋮\n",
       "│ 139 │ 6.0         │ 3.0        │ 4.8         │ 1.8        │ \"virginica\" │\n",
       "│ 140 │ 6.9         │ 3.1        │ 5.4         │ 2.1        │ \"virginica\" │\n",
       "│ 141 │ 6.7         │ 3.1        │ 5.6         │ 2.4        │ \"virginica\" │\n",
       "│ 142 │ 6.9         │ 3.1        │ 5.1         │ 2.3        │ \"virginica\" │\n",
       "│ 143 │ 5.8         │ 2.7        │ 5.1         │ 1.9        │ \"virginica\" │\n",
       "│ 144 │ 6.8         │ 3.2        │ 5.9         │ 2.3        │ \"virginica\" │\n",
       "│ 145 │ 6.7         │ 3.3        │ 5.7         │ 2.5        │ \"virginica\" │\n",
       "│ 146 │ 6.7         │ 3.0        │ 5.2         │ 2.3        │ \"virginica\" │\n",
       "│ 147 │ 6.3         │ 2.5        │ 5.0         │ 1.9        │ \"virginica\" │\n",
       "│ 148 │ 6.5         │ 3.0        │ 5.2         │ 2.0        │ \"virginica\" │\n",
       "│ 149 │ 6.2         │ 3.4        │ 5.4         │ 2.3        │ \"virginica\" │\n",
       "│ 150 │ 5.9         │ 3.0        │ 5.1         │ 1.8        │ \"virginica\" │\n",
       "\n",
       "│ Row │ id  │\n",
       "├─────┼─────┤\n",
       "│ 1   │ 1   │\n",
       "│ 2   │ 2   │\n",
       "│ 3   │ 3   │\n",
       "│ 4   │ 4   │\n",
       "│ 5   │ 5   │\n",
       "│ 6   │ 6   │\n",
       "│ 7   │ 7   │\n",
       "│ 8   │ 8   │\n",
       "│ 9   │ 9   │\n",
       "│ 10  │ 10  │\n",
       "│ 11  │ 11  │\n",
       "⋮\n",
       "│ 139 │ 139 │\n",
       "│ 140 │ 140 │\n",
       "│ 141 │ 141 │\n",
       "│ 142 │ 142 │\n",
       "│ 143 │ 143 │\n",
       "│ 144 │ 144 │\n",
       "│ 145 │ 145 │\n",
       "│ 146 │ 146 │\n",
       "│ 147 │ 147 │\n",
       "│ 148 │ 148 │\n",
       "│ 149 │ 149 │\n",
       "│ 150 │ 150 │"
      ]
     },
     "execution_count": 5,
     "metadata": {},
     "output_type": "execute_result"
    }
   ],
   "source": [
    "iris\n"
   ]
  },
  {
   "cell_type": "code",
   "execution_count": 2,
   "metadata": {},
   "outputs": [
    {
     "name": "stderr",
     "output_type": "stream",
     "text": [
      "\u001b[1m\u001b[34mINFO: Cloning cache of RData from https://github.com/JuliaStats/RData.jl.git\n",
      "\u001b[0m\u001b[1m\u001b[34mINFO: Cloning cache of RDatasets from https://github.com/johnmyleswhite/RDatasets.jl.git\n",
      "\u001b[0m\u001b[1m\u001b[34mINFO: Installing RData v0.0.4\n",
      "\u001b[0m\u001b[1m\u001b[34mINFO: Installing RDatasets v0.2.0\n",
      "\u001b[0m\u001b[1m\u001b[34mINFO: Package database updated\n",
      "\u001b[0m\u001b[1m\u001b[34mINFO: METADATA is out-of-date — you may not have the latest version of RDatasets\n",
      "\u001b[0m\u001b[1m\u001b[34mINFO: Use `Pkg.update()` to get the latest versions of your packages\n",
      "\u001b[0m"
     ]
    }
   ],
   "source": [
    "d = stack(iris, [1:4])"
   ]
  },
  {
   "cell_type": "code",
   "execution_count": null,
   "metadata": {},
   "outputs": [],
   "source": []
  }
 ],
 "metadata": {
  "kernelspec": {
   "display_name": "Julia 0.5.0",
   "language": "julia",
   "name": "julia-0.5"
  },
  "language_info": {
   "file_extension": ".jl",
   "mimetype": "application/julia",
   "name": "julia",
   "version": "0.5.0"
  }
 },
 "nbformat": 4,
 "nbformat_minor": 1
}
