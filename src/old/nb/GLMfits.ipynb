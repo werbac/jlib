{
 "cells": [
  {
   "cell_type": "code",
   "execution_count": 1,
   "metadata": {
    "collapsed": false
   },
   "outputs": [
    {
     "name": "stdout",
     "output_type": "stream",
     "text": [
      "Julia Version 0.4.5\n",
      "Commit 2ac304d (2016-03-18 00:58 UTC)\n",
      "Platform Info:\n",
      "  System: Linux (x86_64-unknown-linux-gnu)\n",
      "  CPU: Intel(R) Core(TM) i5-3570 CPU @ 3.40GHz\n",
      "  WORD_SIZE: 64\n",
      "  BLAS: libopenblas (USE64BITINT DYNAMIC_ARCH NO_AFFINITY Sandybridge)\n",
      "  LAPACK: libopenblas64_\n",
      "  LIBM: libopenlibm\n",
      "  LLVM: libLLVM-3.3\n"
     ]
    }
   ],
   "source": [
    "versioninfo()"
   ]
  },
  {
   "cell_type": "code",
   "execution_count": 2,
   "metadata": {
    "collapsed": false,
    "scrolled": true
   },
   "outputs": [
    {
     "name": "stdout",
     "output_type": "stream",
     "text": [
      " - DataFrames                    0.7.2\n",
      " - Distributions                 0.9.0\n",
      " - GLM                           0.5.2\n",
      " - MixedModels                   0.5.3\n",
      " - RCall                         0.4.1\n"
     ]
    }
   ],
   "source": [
    "using DataFrames, Distributions, GLM, MixedModels, RCall\n",
    "Pkg.status(\"DataFrames\")\n",
    "Pkg.status(\"Distributions\")\n",
    "Pkg.status(\"GLM\")\n",
    "Pkg.status(\"MixedModels\")\n",
    "Pkg.status(\"RCall\")"
   ]
  },
  {
   "cell_type": "markdown",
   "metadata": {},
   "source": [
    "# Cleaning and resaving the data sets\n",
    "\n",
    "The sample data sets provided by Glen Thomas are \"pen\", \"occ\" and \"dolocc\"."
   ]
  },
  {
   "cell_type": "code",
   "execution_count": 3,
   "metadata": {
    "collapsed": false
   },
   "outputs": [
    {
     "data": {
      "text/plain": [
       "RCall.RObject{RCall.StrSxp}\n",
       "[1] \"pen_final_data\"    \"Pen_Formula_final\"\n"
      ]
     },
     "execution_count": 3,
     "metadata": {},
     "output_type": "execute_result"
    }
   ],
   "source": [
    "R\"\"\"\n",
    "load(\"pen_formula.RData\")\n",
    "load(\"pen_final_data.RData\")\n",
    "ls()\n",
    "\"\"\""
   ]
  },
  {
   "cell_type": "code",
   "execution_count": 4,
   "metadata": {
    "collapsed": false
   },
   "outputs": [
    {
     "data": {
      "text/plain": [
       "RCall.RObject{RCall.StrSxp}\n",
       "[1] \"Buyer_Pos_P1~ Cpn_Trps_Shr_DPP_P3 + Fea_Trps_Shr_DPP_P3 + Dis_Trps_Shr_DPP_P3 + Cpn_Trps_Shr_DPP_P4 + AP_Trps_Shr_DPP_P4 + Cpn_Trps_Shr_DPP_P5 + AP_Trps_Shr_DPP_P5 + TPR_Trps_Shr_DPP_P7 + Dol_per_Trip_PRE_P8 + AP_Trps_Shr_DPP_P8 + UN_per_Trip_PRE_P2 + UN_per_Trip_PRE_P1 + Dis_Trps_Shr_DPP_P1 + Prd_1_Net_Pr_PRE + offset(log(Buyer_Pre_P1+1)) + group+(0+group|Creative_Groups)\"\n"
      ]
     },
     "execution_count": 4,
     "metadata": {},
     "output_type": "execute_result"
    }
   ],
   "source": [
    "R\"Pen_Formula_final\"  # saved as a character string"
   ]
  },
  {
   "cell_type": "code",
   "execution_count": 5,
   "metadata": {
    "collapsed": false
   },
   "outputs": [
    {
     "data": {
      "text/plain": [
       "RCall.RObject{RCall.LangSxp}\n",
       "Buyer_Pos_P1 ~ Cpn_Trps_Shr_DPP_P3 + Fea_Trps_Shr_DPP_P3 + Dis_Trps_Shr_DPP_P3 + \n",
       "    Cpn_Trps_Shr_DPP_P4 + AP_Trps_Shr_DPP_P4 + Cpn_Trps_Shr_DPP_P5 + \n",
       "    AP_Trps_Shr_DPP_P5 + TPR_Trps_Shr_DPP_P7 + Dol_per_Trip_PRE_P8 + \n",
       "    AP_Trps_Shr_DPP_P8 + UN_per_Trip_PRE_P2 + UN_per_Trip_PRE_P1 + \n",
       "    Dis_Trps_Shr_DPP_P1 + Prd_1_Net_Pr_PRE + offset(log(Buyer_Pre_P1 + \n",
       "    1)) + group + (0 + group | Creative_Groups)\n"
      ]
     },
     "execution_count": 5,
     "metadata": {},
     "output_type": "execute_result"
    }
   ],
   "source": [
    "R\"form <- eval(parse(text = Pen_Formula_final))\""
   ]
  },
  {
   "cell_type": "markdown",
   "metadata": {},
   "source": [
    "Before copying the data frame to Julia we reduce it to only those variables used in the formula, drop unused levels, and save in `.rds` (R Data Set) format using `xz` compression."
   ]
  },
  {
   "cell_type": "code",
   "execution_count": 6,
   "metadata": {
    "collapsed": false
   },
   "outputs": [],
   "source": [
    "R\"\"\"\n",
    "saveRDS(droplevels(subset(pen_final_data, \n",
    "    select = all.vars(form))),\n",
    "    file = \"pen_data.rds\", compress = \"xz\")\n",
    "\"\"\";"
   ]
  },
  {
   "cell_type": "markdown",
   "metadata": {},
   "source": [
    "We reduce and save the \"occ\" and \"dolocc\" data similarly."
   ]
  },
  {
   "cell_type": "code",
   "execution_count": 7,
   "metadata": {
    "collapsed": false
   },
   "outputs": [
    {
     "data": {
      "text/plain": [
       "RCall.RObject{RCall.StrSxp}\n",
       "[1] \"occ_final_data\"\n"
      ]
     },
     "execution_count": 7,
     "metadata": {},
     "output_type": "execute_result"
    }
   ],
   "source": [
    "R\"\"\"load(\"occ_final_data.RData\")\"\"\""
   ]
  },
  {
   "cell_type": "code",
   "execution_count": 8,
   "metadata": {
    "collapsed": false
   },
   "outputs": [
    {
     "data": {
      "text/plain": [
       "RCall.RObject{RCall.StrSxp}\n",
       "[1] \"Occ_Random_Formula_final\"\n"
      ]
     },
     "execution_count": 8,
     "metadata": {},
     "output_type": "execute_result"
    }
   ],
   "source": [
    "R\"\"\"load(\"occ_formula.RData\")\"\"\""
   ]
  },
  {
   "cell_type": "code",
   "execution_count": 9,
   "metadata": {
    "collapsed": false
   },
   "outputs": [
    {
     "data": {
      "text/plain": [
       "RCall.RObject{RCall.LangSxp}\n",
       "Trps_POS_P1 ~ Trps_PRE_P3 + AP_Trps_Shr_DPP_P3 + Dol_per_Trip_PRE_P4 + \n",
       "    Cpn_Trps_Shr_DPP_P4 + Dis_Trps_Shr_DPP_P4 + AP_Trps_Shr_DPP_P6 + \n",
       "    Dol_per_Trip_PRE_P7 + Prd_7_Net_Pr_PRE + UN_per_Trip_PRE_P8 + \n",
       "    Dis_Trps_Shr_DPP_P8 + Cpn_UN_PRE_P2 + UN_per_Trip_PRE_P2 + \n",
       "    Cpn_Trps_Shr_DPP_P1 + AP_Trps_Shr_DPP_P1 + offset(log(Trps_PRE_P1 + \n",
       "    1)) + group + (0 + group | estimated_hh_income) + (0 + group | \n",
       "    hh_age) + (0 + group | number_of_children_in_living_Un) + \n",
       "    (0 + group | Creative_Groups)\n"
      ]
     },
     "execution_count": 9,
     "metadata": {},
     "output_type": "execute_result"
    }
   ],
   "source": [
    "R\"occ_form <- eval(parse(text=Occ_Random_Formula_final))\""
   ]
  },
  {
   "cell_type": "code",
   "execution_count": 10,
   "metadata": {
    "collapsed": false
   },
   "outputs": [],
   "source": [
    "R\"\"\"\n",
    "saveRDS(droplevels(subset(occ_final_data, \n",
    "    select = all.vars(occ_form))),\n",
    "    file = \"occ_data.rds\", compress = \"xz\")\n",
    "\"\"\";"
   ]
  },
  {
   "cell_type": "code",
   "execution_count": 11,
   "metadata": {
    "collapsed": false
   },
   "outputs": [
    {
     "data": {
      "text/plain": [
       "RCall.RObject{RCall.StrSxp}\n",
       "[1] \"dolocc_final_data\"\n"
      ]
     },
     "execution_count": 11,
     "metadata": {},
     "output_type": "execute_result"
    }
   ],
   "source": [
    "R\"\"\"load(\"dolocc_final_data.RData\")\"\"\""
   ]
  },
  {
   "cell_type": "code",
   "execution_count": 12,
   "metadata": {
    "collapsed": false
   },
   "outputs": [
    {
     "data": {
      "text/plain": [
       "RCall.RObject{RCall.StrSxp}\n",
       "[1] \"dolocc_Formula_final\"\n"
      ]
     },
     "execution_count": 12,
     "metadata": {},
     "output_type": "execute_result"
    }
   ],
   "source": [
    "R\"\"\"load(\"dolocc_formula.RData\")\"\"\""
   ]
  },
  {
   "cell_type": "code",
   "execution_count": 13,
   "metadata": {
    "collapsed": false
   },
   "outputs": [
    {
     "data": {
      "text/plain": [
       "RCall.RObject{RCall.LangSxp}\n",
       "Dol_per_Trip_POS_P1 ~ Trps_PRE_P4 + Cpn_Dol_per_Trip_DPP_P5 + \n",
       "    Cpn_UN_per_Trip_DPP_P8 + Dis_Trps_Shr_DPP_P8 + Trps_PRE_P2 + \n",
       "    Nonbuyer_Pre_P1 + offset(log(Dol_per_Trip_PRE_P1 + 1)) + \n",
       "    group + (0 + group | Creative_Groups)\n"
      ]
     },
     "execution_count": 13,
     "metadata": {},
     "output_type": "execute_result"
    }
   ],
   "source": [
    "R\"dolocc_form <- eval(parse(text=dolocc_Formula_final))\""
   ]
  },
  {
   "cell_type": "code",
   "execution_count": 14,
   "metadata": {
    "collapsed": true
   },
   "outputs": [],
   "source": [
    "R\"\"\"\n",
    "saveRDS(droplevels(subset(dolocc_final_data, \n",
    "    select = all.vars(dolocc_form))),\n",
    "    file = \"dolocc_data.rds\", compress = \"xz\")\n",
    "\"\"\";"
   ]
  },
  {
   "cell_type": "markdown",
   "metadata": {},
   "source": [
    "## Why use random effects and why use those offsets?\n",
    "\n",
    "As I described in my talk in Chicago, the term \"random effects\" is a bit of a misnomer.  It is actually the levels of the grouping factor for the term that are random in the sense that if the study is repeated we would expect that these levels would change.  In other words they represent a random sample from some population.\n",
    "\n",
    "The distinction between fixed and random-effects can be relaxed a bit if the number of levels is either very large or very small.  A factor with only a few levels is usually modelled as a fixed-effect, because it is difficult to estimate variances from small samples.  A factor with a large number of levels is often modelled as a random effect, even if the levels are reproducible, because the \"shrinkage\" of random effects allows for more stable computational methods.\n",
    "\n",
    "All three models incorporate random-effects terms for `Creative_Groups`, which has only a few levels."
   ]
  },
  {
   "cell_type": "code",
   "execution_count": 15,
   "metadata": {
    "collapsed": false,
    "scrolled": true
   },
   "outputs": [
    {
     "data": {
      "text/plain": [
       "Dict{Union{ASCIIString,DataArrays.NAtype},Int64} with 4 entries:\n",
       "  \"Cafe Steamers\"        => 679\n",
       "  \"none\"                 => 15512\n",
       "  \"Simply Cafe Steamers\" => 436\n",
       "  \"Both\"                 => 200"
      ]
     },
     "execution_count": 15,
     "metadata": {},
     "output_type": "execute_result"
    }
   ],
   "source": [
    "occ = rcopy(\"readRDS('occ_data.rds')\");\n",
    "using StatsBase\n",
    "countmap(occ[:Creative_Groups])"
   ]
  },
  {
   "cell_type": "code",
   "execution_count": 16,
   "metadata": {
    "collapsed": false
   },
   "outputs": [
    {
     "data": {
      "text/plain": [
       "Dict{Union{ASCIIString,DataArrays.NAtype},Int64} with 4 entries:\n",
       "  \"Cafe Steamers\"        => 679\n",
       "  \"none\"                 => 14282\n",
       "  \"Simply Cafe Steamers\" => 436\n",
       "  \"Both\"                 => 200"
      ]
     },
     "execution_count": 16,
     "metadata": {},
     "output_type": "execute_result"
    }
   ],
   "source": [
    "dolocc = rcopy(\"readRDS('dolocc_data.rds')\");\n",
    "countmap(dolocc[:Creative_Groups])"
   ]
  },
  {
   "cell_type": "code",
   "execution_count": 17,
   "metadata": {
    "collapsed": false
   },
   "outputs": [
    {
     "data": {
      "text/plain": [
       "Dict{Union{ASCIIString,DataArrays.NAtype},Int64} with 4 entries:\n",
       "  \"Cafe Steamers\"        => 18327\n",
       "  \"none\"                 => 510011\n",
       "  \"Simply Cafe Steamers\" => 10896\n",
       "  \"Both\"                 => 5038"
      ]
     },
     "execution_count": 17,
     "metadata": {},
     "output_type": "execute_result"
    }
   ],
   "source": [
    "pen = rcopy(\"readRDS('pen_data.rds')\");\n",
    "countmap(pen[:Creative_Groups])"
   ]
  },
  {
   "cell_type": "markdown",
   "metadata": {},
   "source": [
    "For each of the data sets `Creative_Groups` has only 4 levels.  It is unusual to use random-effects for such a factor.  The other problem is the relationshup between `group` and `Creative_Groups`.  The `group` factor is just an indicator of `none` versus the other three levels of `Creative_Groups`."
   ]
  },
  {
   "cell_type": "code",
   "execution_count": 18,
   "metadata": {
    "collapsed": false
   },
   "outputs": [
    {
     "data": {
      "text/plain": [
       "2x4 Array{Int64,2}:\n",
       "    0      0      0  510011\n",
       " 5038  18327  10896       0"
      ]
     },
     "execution_count": 18,
     "metadata": {},
     "output_type": "execute_result"
    }
   ],
   "source": [
    "counts(pen[:group].refs, pen[:Creative_Groups].refs)"
   ]
  },
  {
   "cell_type": "code",
   "execution_count": 19,
   "metadata": {
    "collapsed": false
   },
   "outputs": [
    {
     "data": {
      "text/plain": [
       "2x4 Array{Int64,2}:\n",
       "   0    0    0  15512\n",
       " 200  679  436      0"
      ]
     },
     "execution_count": 19,
     "metadata": {},
     "output_type": "execute_result"
    }
   ],
   "source": [
    "counts(occ[:group].refs, occ[:Creative_Groups].refs)"
   ]
  },
  {
   "cell_type": "code",
   "execution_count": 20,
   "metadata": {
    "collapsed": false
   },
   "outputs": [
    {
     "data": {
      "text/plain": [
       "2x4 Array{Int64,2}:\n",
       "   0    0    0  14282\n",
       " 200  679  436      0"
      ]
     },
     "execution_count": 20,
     "metadata": {},
     "output_type": "execute_result"
    }
   ],
   "source": [
    "counts(dolocc[:group].refs, dolocc[:Creative_Groups].refs)"
   ]
  },
  {
   "cell_type": "markdown",
   "metadata": {},
   "source": [
    "This means that a term of the form `(1 + group | Creative_Group)` or `(0 + group | Creative_Group)` cannot be estimated because `group` is constant within each level of `Creative_Group`.  Trying to define such terms is like trying to estimate an intercept and slope from a single data point.  It may be that `glmer` produces estimates but that is only because of the estimation method, which gets expressed as a general optimization problem.  In such cases it is difficult to know if you have converged to an optimum or if you are simply failing to make progress because the model is over-specified.\n",
    "\n",
    "The next issue is the `offset` term.  Sometimes such an offset is used in a GLM with a Poisson distribution and a log-link.  Such a term is used when the response is a rate rather than a count.  See [this discussion](http://stats.stackexchange.com/questions/11182/when-to-use-an-offset-in-a-poisson-regression).  It seems unlikely that this is the case for the `occ` (Occasions) data.  For the `pen` (Penetration) data it is not appropriate to use `offset(log(Buyer_Pre_P1 + 1))` because the link is a logit link, not a log link.\n",
    "\n",
    "One way to assess this is to compare models fit with this term as an offset and with the `Buyer_Pre_P1` as a fixed-effects term.  Fitting with a fixed effects term for `Buyer_Pre_P1` or for `log(Buyer_Pre_P1 + 1)` is the same in terms of the deviance, because `Buyer_Pre_P1` only has two levels."
   ]
  },
  {
   "cell_type": "code",
   "execution_count": 21,
   "metadata": {
    "collapsed": false
   },
   "outputs": [
    {
     "data": {
      "text/plain": [
       "DataFrames.DataFrameRegressionModel{GLM.GeneralizedLinearModel{GLM.GlmResp{Array{Float64,1},Distributions.Bernoulli,GLM.LogitLink},GLM.DensePredChol{Float64,Base.LinAlg.Cholesky{Float64,Array{Float64,2}}}},Float64}\n",
       "\n",
       "Formula: Buyer_Pos_P1 ~ 1 + Buyer_Pre_P1\n",
       "\n",
       "Coefficients:\n",
       "              Estimate Std.Error z value Pr(>|z|)\n",
       "(Intercept)   -3.91704 0.0100029 -391.59   <1e-99\n",
       "Buyer_Pre_P1   2.80325 0.0185983 150.726   <1e-99\n"
      ]
     },
     "execution_count": 21,
     "metadata": {},
     "output_type": "execute_result"
    }
   ],
   "source": [
    "gm1 = glm(Buyer_Pos_P1 ~ 1 + Buyer_Pre_P1, pen, Bernoulli())"
   ]
  },
  {
   "cell_type": "code",
   "execution_count": 22,
   "metadata": {
    "collapsed": false
   },
   "outputs": [
    {
     "data": {
      "text/plain": [
       "124892.9737695327"
      ]
     },
     "execution_count": 22,
     "metadata": {},
     "output_type": "execute_result"
    }
   ],
   "source": [
    "deviance(gm1)"
   ]
  },
  {
   "cell_type": "markdown",
   "metadata": {},
   "source": [
    "The estimated coefficient, 2.803, for `Buyer_Pre_P1` is so large because that indicator is so highly predictive `Buyer_Pos_P1`."
   ]
  },
  {
   "cell_type": "code",
   "execution_count": 23,
   "metadata": {
    "collapsed": false
   },
   "outputs": [
    {
     "data": {
      "text/plain": [
       "2x2 Array{Int64,2}:\n",
       " 512215  10193\n",
       "  16460   5404"
      ]
     },
     "execution_count": 23,
     "metadata": {},
     "output_type": "execute_result"
    }
   ],
   "source": [
    "counts(convert(Vector{Int},pen[:Buyer_Pre_P1]),\n",
    "convert(Vector{Int},pen[:Buyer_Pos_P1]))"
   ]
  },
  {
   "cell_type": "markdown",
   "metadata": {},
   "source": [
    "If, as in the suggested model, we incorporate an offset the fit is"
   ]
  },
  {
   "cell_type": "code",
   "execution_count": 24,
   "metadata": {
    "collapsed": false
   },
   "outputs": [
    {
     "data": {
      "text/plain": [
       "DataFrames.DataFrameRegressionModel{GLM.GeneralizedLinearModel{GLM.GlmResp{Array{Float64,1},Distributions.Bernoulli,GLM.LogitLink},GLM.DensePredChol{Float64,Base.LinAlg.Cholesky{Float64,Array{Float64,2}}}},Float64}\n",
       "\n",
       "Formula: Buyer_Pos_P1 ~ +1\n",
       "\n",
       "Coefficients:\n",
       "             Estimate Std.Error  z value Pr(>|z|)\n",
       "(Intercept)  -3.56168 0.0075507 -471.702   <1e-99\n"
      ]
     },
     "execution_count": 24,
     "metadata": {},
     "output_type": "execute_result"
    }
   ],
   "source": [
    "gm2 = glm(Buyer_Pos_P1 ~ 1, pen, Bernoulli(), \n",
    "    offset = log(Array(pen[:Buyer_Pre_P1] + 1)))"
   ]
  },
  {
   "cell_type": "code",
   "execution_count": 25,
   "metadata": {
    "collapsed": false
   },
   "outputs": [
    {
     "data": {
      "text/plain": [
       "135276.7255031027"
      ]
     },
     "execution_count": 25,
     "metadata": {},
     "output_type": "execute_result"
    }
   ],
   "source": [
    "deviance(gm2)"
   ]
  },
  {
   "cell_type": "markdown",
   "metadata": {},
   "source": [
    "`gm2` is a much, much poorer fit to the data than is `gm1`, as assessed by the change in the deviance."
   ]
  },
  {
   "cell_type": "code",
   "execution_count": 26,
   "metadata": {
    "collapsed": false
   },
   "outputs": [
    {
     "data": {
      "text/plain": [
       "10383.751733569996"
      ]
     },
     "execution_count": 26,
     "metadata": {},
     "output_type": "execute_result"
    }
   ],
   "source": [
    "deviance(gm2) - deviance(gm1)"
   ]
  },
  {
   "cell_type": "markdown",
   "metadata": {},
   "source": [
    "The change in deviance would have a Χ² distribution with 1 degree of freedom if the model with the offset was suitable.  The probability of this value or something even large (i.e. the p-value) is essentially zero."
   ]
  },
  {
   "cell_type": "code",
   "execution_count": 27,
   "metadata": {
    "collapsed": false
   },
   "outputs": [
    {
     "data": {
      "text/plain": [
       "0.0"
      ]
     },
     "execution_count": 27,
     "metadata": {},
     "output_type": "execute_result"
    }
   ],
   "source": [
    "ccdf(Chisq(1), deviance(gm2) - deviance(gm1))"
   ]
  },
  {
   "cell_type": "markdown",
   "metadata": {},
   "source": [
    "Another way of assessing whether the offset is suitable is to incorporate it while keeping `Buyer_Pre_P1` in the model."
   ]
  },
  {
   "cell_type": "code",
   "execution_count": 28,
   "metadata": {
    "collapsed": false
   },
   "outputs": [
    {
     "data": {
      "text/plain": [
       "DataFrames.DataFrameRegressionModel{GLM.GeneralizedLinearModel{GLM.GlmResp{Array{Float64,1},Distributions.Bernoulli,GLM.LogitLink},GLM.DensePredChol{Float64,Base.LinAlg.Cholesky{Float64,Array{Float64,2}}}},Float64}\n",
       "\n",
       "Formula: Buyer_Pos_P1 ~ 1 + Buyer_Pre_P1\n",
       "\n",
       "Coefficients:\n",
       "              Estimate Std.Error z value Pr(>|z|)\n",
       "(Intercept)   -3.91704 0.0100029 -391.59   <1e-99\n",
       "Buyer_Pre_P1    2.1101 0.0185983 113.457   <1e-99\n"
      ]
     },
     "execution_count": 28,
     "metadata": {},
     "output_type": "execute_result"
    }
   ],
   "source": [
    "gm3 = glm(Buyer_Pos_P1 ~ 1 + Buyer_Pre_P1, pen, Bernoulli(),\n",
    "offset = log(Array(pen[:Buyer_Pre_P1] + 1)))"
   ]
  },
  {
   "cell_type": "code",
   "execution_count": 29,
   "metadata": {
    "collapsed": false
   },
   "outputs": [
    {
     "data": {
      "text/plain": [
       "124892.97376953263"
      ]
     },
     "execution_count": 29,
     "metadata": {},
     "output_type": "execute_result"
    }
   ],
   "source": [
    "deviance(gm3)"
   ]
  },
  {
   "cell_type": "markdown",
   "metadata": {},
   "source": [
    "Notice that the deviance is the same for `gm1` and `gm3`.  In other words, the offset does not affect the quality of the fit, all it does in this case is to subtract `log(2.)` from the estimate of the coefficient for `Buyer_Pre_P1`."
   ]
  },
  {
   "cell_type": "code",
   "execution_count": 30,
   "metadata": {
    "collapsed": false
   },
   "outputs": [
    {
     "data": {
      "text/plain": [
       "0.6931471805599521"
      ]
     },
     "execution_count": 30,
     "metadata": {},
     "output_type": "execute_result"
    }
   ],
   "source": [
    "coef(gm1)[2] - coef(gm3)[2]"
   ]
  },
  {
   "cell_type": "code",
   "execution_count": 31,
   "metadata": {
    "collapsed": false
   },
   "outputs": [
    {
     "data": {
      "text/plain": [
       "0.6931471805599453"
      ]
     },
     "execution_count": 31,
     "metadata": {},
     "output_type": "execute_result"
    }
   ],
   "source": [
    "log(2.)"
   ]
  },
  {
   "cell_type": "markdown",
   "metadata": {},
   "source": [
    "We can repeat this for the `occ` and `dolocc` data sets.  In these cases we must create a column of `log(Trps_PRE_P1 + 1)` in the data frame before fitting the model."
   ]
  },
  {
   "cell_type": "code",
   "execution_count": 32,
   "metadata": {
    "collapsed": false
   },
   "outputs": [
    {
     "data": {
      "text/plain": [
       "DataFrames.DataFrameRegressionModel{GLM.GeneralizedLinearModel{GLM.GlmResp{Array{Float64,1},Distributions.Poisson,GLM.LogLink},GLM.DensePredChol{Float64,Base.LinAlg.Cholesky{Float64,Array{Float64,2}}}},Float64}\n",
       "\n",
       "Formula: Trps_POS_P1 ~ 1 + log_Trps_PRE_P1\n",
       "\n",
       "Coefficients:\n",
       "                  Estimate  Std.Error z value Pr(>|z|)\n",
       "(Intercept)      0.0432075 0.00831807 5.19441    <1e-6\n",
       "log_Trps_PRE_P1   0.700307 0.00714241 98.0491   <1e-99\n"
      ]
     },
     "execution_count": 32,
     "metadata": {},
     "output_type": "execute_result"
    }
   ],
   "source": [
    "occ[:log_Trps_PRE_P1] = log(occ[:Trps_PRE_P1] + 1);\n",
    "gm4 = glm(Trps_POS_P1 ~ 1 + log_Trps_PRE_P1, occ, Poisson())"
   ]
  },
  {
   "cell_type": "code",
   "execution_count": 33,
   "metadata": {
    "collapsed": false
   },
   "outputs": [
    {
     "data": {
      "text/plain": [
       "8093.878604834652"
      ]
     },
     "execution_count": 33,
     "metadata": {},
     "output_type": "execute_result"
    }
   ],
   "source": [
    "deviance(gm4)"
   ]
  },
  {
   "cell_type": "code",
   "execution_count": 34,
   "metadata": {
    "collapsed": false
   },
   "outputs": [
    {
     "data": {
      "text/plain": [
       "DataFrames.DataFrameRegressionModel{GLM.GeneralizedLinearModel{GLM.GlmResp{Array{Float64,1},Distributions.Poisson,GLM.LogLink},GLM.DensePredChol{Float64,Base.LinAlg.Cholesky{Float64,Array{Float64,2}}}},Float64}\n",
       "\n",
       "Formula: Trps_POS_P1 ~ +1\n",
       "\n",
       "Coefficients:\n",
       "              Estimate  Std.Error  z value Pr(>|z|)\n",
       "(Intercept)  -0.224828 0.00621736 -36.1613   <1e-99\n"
      ]
     },
     "execution_count": 34,
     "metadata": {},
     "output_type": "execute_result"
    }
   ],
   "source": [
    "gm5 = glm(Trps_POS_P1 ~ 1, occ, Poisson(), \n",
    "offset = Array(occ[:log_Trps_PRE_P1]))"
   ]
  },
  {
   "cell_type": "code",
   "execution_count": 35,
   "metadata": {
    "collapsed": false
   },
   "outputs": [
    {
     "data": {
      "text/plain": [
       "1874.521412914357"
      ]
     },
     "execution_count": 35,
     "metadata": {},
     "output_type": "execute_result"
    }
   ],
   "source": [
    "deviance(gm5) - deviance(gm4)"
   ]
  },
  {
   "cell_type": "code",
   "execution_count": 36,
   "metadata": {
    "collapsed": false
   },
   "outputs": [
    {
     "data": {
      "text/plain": [
       "DataFrames.DataFrameRegressionModel{GLM.GeneralizedLinearModel{GLM.GlmResp{Array{Float64,1},Distributions.Poisson,GLM.LogLink},GLM.DensePredChol{Float64,Base.LinAlg.Cholesky{Float64,Array{Float64,2}}}},Float64}\n",
       "\n",
       "Formula: Trps_POS_P1 ~ 1 + log_Trps_PRE_P1\n",
       "\n",
       "Coefficients:\n",
       "                  Estimate  Std.Error  z value Pr(>|z|)\n",
       "(Intercept)      0.0432075 0.00831807  5.19441    <1e-6\n",
       "log_Trps_PRE_P1  -0.299693 0.00714241 -41.9596   <1e-99\n"
      ]
     },
     "execution_count": 36,
     "metadata": {},
     "output_type": "execute_result"
    }
   ],
   "source": [
    "gm6 = glm(Trps_POS_P1 ~ 1 + log_Trps_PRE_P1, occ, Poisson(),\n",
    "offset = Array(occ[:log_Trps_PRE_P1]))"
   ]
  },
  {
   "cell_type": "code",
   "execution_count": 37,
   "metadata": {
    "collapsed": false
   },
   "outputs": [
    {
     "data": {
      "text/plain": [
       "8093.878604834654"
      ]
     },
     "execution_count": 37,
     "metadata": {},
     "output_type": "execute_result"
    }
   ],
   "source": [
    "deviance(gm6)"
   ]
  },
  {
   "cell_type": "markdown",
   "metadata": {},
   "source": [
    "Again the deviance for `gm6` is the same as that of `gm4` and the coefficient for `log_Trps_PRE_P1` is significantly different from 0.  The z-value is -41.96 and the p-value is less than 1e-99.\n",
    "\n",
    "Turning our attention to the `dolocc` data"
   ]
  },
  {
   "cell_type": "code",
   "execution_count": 38,
   "metadata": {
    "collapsed": false
   },
   "outputs": [
    {
     "name": "stdout",
     "output_type": "stream",
     "text": [
      "Summary Stats:\n",
      "Mean:         3.981794\n",
      "Minimum:      1.090000\n",
      "1st Quartile: 2.690000\n",
      "Median:       3.000000\n",
      "3rd Quartile: 5.000000\n",
      "Maximum:      32.280000\n"
     ]
    }
   ],
   "source": [
    "describe(dolocc[:Dol_per_Trip_POS_P1])"
   ]
  },
  {
   "cell_type": "code",
   "execution_count": 39,
   "metadata": {
    "collapsed": false
   },
   "outputs": [
    {
     "name": "stdout",
     "output_type": "stream",
     "text": [
      "Summary Stats:\n",
      "Mean:         1.518385\n",
      "Minimum:      0.000000\n",
      "1st Quartile: 0.000000\n",
      "Median:       0.000000\n",
      "3rd Quartile: 2.790000\n",
      "Maximum:      27.500000\n"
     ]
    }
   ],
   "source": [
    "describe(dolocc[:Dol_per_Trip_PRE_P1])"
   ]
  },
  {
   "cell_type": "code",
   "execution_count": 40,
   "metadata": {
    "collapsed": false
   },
   "outputs": [
    {
     "data": {
      "image/png": "[encoded data removed]"
     },
     "metadata": {},
     "output_type": "display_data"
    },
    {
     "data": {
      "text/plain": [
       "RCall.RObject{RCall.VecSxp}\n"
      ]
     },
     "execution_count": 40,
     "metadata": {},
     "output_type": "execute_result"
    }
   ],
   "source": [
    "R\"\"\"\n",
    "suppressPackageStartupMessages(library(ggplot2))\n",
    "dolocc <- readRDS(\"dolocc_data.rds\")\n",
    "p <- ggplot(dolocc, aes(x = Dol_per_Trip_PRE_P1 + 1, \n",
    "y = Dol_per_Trip_POS_P1)) + geom_point(alpha=0.1) +\n",
    "scale_x_continuous(trans=\"log2\") + scale_y_continuous(trans=\"log2\")\n",
    "\"\"\""
   ]
  },
  {
   "cell_type": "code",
   "execution_count": 41,
   "metadata": {
    "collapsed": true
   },
   "outputs": [],
   "source": [
    "dolocc[:log_PRE_P1] = log(Array(dolocc[:Dol_per_Trip_PRE_P1]) + 1);"
   ]
  },
  {
   "cell_type": "code",
   "execution_count": 42,
   "metadata": {
    "collapsed": false
   },
   "outputs": [
    {
     "data": {
      "text/plain": [
       "DataFrames.DataFrameRegressionModel{GLM.GeneralizedLinearModel{GLM.GlmResp{Array{Float64,1},Distributions.Gamma,GLM.LogLink},GLM.DensePredChol{Float64,Base.LinAlg.Cholesky{Float64,Array{Float64,2}}}},Float64}\n",
       "\n",
       "Formula: Dol_per_Trip_POS_P1 ~ 1 + log_PRE_P1\n",
       "\n",
       "Coefficients:\n",
       "             Estimate  Std.Error z value Pr(>|z|)\n",
       "(Intercept)   1.27276 0.00425336 299.237   <1e-99\n",
       "log_PRE_P1   0.175394 0.00436899 40.1453   <1e-99\n"
      ]
     },
     "execution_count": 42,
     "metadata": {},
     "output_type": "execute_result"
    }
   ],
   "source": [
    "gm7 = glm(Dol_per_Trip_POS_P1 ~ 1 + log_PRE_P1, dolocc, \n",
    "  Gamma(), LogLink())"
   ]
  },
  {
   "cell_type": "code",
   "execution_count": 43,
   "metadata": {
    "collapsed": false
   },
   "outputs": [
    {
     "data": {
      "text/plain": [
       "DataFrames.DataFrameRegressionModel{GLM.GeneralizedLinearModel{GLM.GlmResp{Array{Float64,1},Distributions.Gamma,GLM.LogLink},GLM.DensePredChol{Float64,Base.LinAlg.Cholesky{Float64,Array{Float64,2}}}},Float64}\n",
       "\n",
       "Formula: Dol_per_Trip_POS_P1 ~ +1\n",
       "\n",
       "Coefficients:\n",
       "             Estimate  Std.Error z value Pr(>|z|)\n",
       "(Intercept)  0.988204 0.00520555 189.837   <1e-99\n"
      ]
     },
     "execution_count": 43,
     "metadata": {},
     "output_type": "execute_result"
    }
   ],
   "source": [
    "gm8 = glm(Dol_per_Trip_POS_P1 ~ 1, dolocc, Gamma(), LogLink(), \n",
    "offset = Array(dolocc[:log_PRE_P1]))"
   ]
  },
  {
   "cell_type": "code",
   "execution_count": 44,
   "metadata": {
    "collapsed": false
   },
   "outputs": [
    {
     "data": {
      "text/plain": [
       "5541.106186674557"
      ]
     },
     "execution_count": 44,
     "metadata": {},
     "output_type": "execute_result"
    }
   ],
   "source": [
    "deviance(gm8) - deviance(gm7)"
   ]
  },
  {
   "cell_type": "markdown",
   "metadata": {},
   "source": [
    "In none of these cases is the `offset` term appropriate.\n",
    "\n",
    "### `group` and `Creative_Groups`\n",
    "\n",
    "As I stated above, `group` is redundant in the sense that it is simply an indicator of the value `none` for `Creative_Groups`.  Although it is possible to work with `Creative_Groups` the names of the levels suggest to me that there are really two binary variables here, `Cafe_Steamers` and `Simply_Cafe_Steamers`.  The 3 degrees of freedom for `Creative_Groups` would more sensibly be modelled as these two variables and their interaction."
   ]
  },
  {
   "cell_type": "code",
   "execution_count": 45,
   "metadata": {
    "collapsed": false
   },
   "outputs": [],
   "source": [
    "occ[:Cafe] = pool([v ∈ [\"Both\", \"Cafe Steamers\"] ? 'Y' : 'N'\n",
    "    for v in occ[:Creative_Groups]]);"
   ]
  },
  {
   "cell_type": "code",
   "execution_count": 46,
   "metadata": {
    "collapsed": true
   },
   "outputs": [],
   "source": [
    "occ[:Simply] = pool([v ∈ [\"Both\", \"Simply Cafe Steamers\"] ? 'Y' : 'N'\n",
    "    for v in occ[:Creative_Groups]]);"
   ]
  },
  {
   "cell_type": "code",
   "execution_count": 47,
   "metadata": {
    "collapsed": false
   },
   "outputs": [
    {
     "data": {
      "text/plain": [
       "DataFrames.DataFrameRegressionModel{GLM.GeneralizedLinearModel{GLM.GlmResp{Array{Float64,1},Distributions.Poisson,GLM.LogLink},GLM.DensePredChol{Float64,Base.LinAlg.Cholesky{Float64,Array{Float64,2}}}},Float64}\n",
       "\n",
       "Formula: Trps_POS_P1 ~ 1 + log_Trps_PRE_P1 + Cafe + Simply + Cafe & Simply\n",
       "\n",
       "Coefficients:\n",
       "                        Estimate  Std.Error  z value Pr(>|z|)\n",
       "(Intercept)            0.0213166 0.00861031  2.47571   0.0133\n",
       "log_Trps_PRE_P1         0.704171 0.00714929  98.4952   <1e-99\n",
       "Cafe - Y                0.253451  0.0297098  8.53087   <1e-16\n",
       "Simply - Y              0.274196  0.0359151  7.63457   <1e-13\n",
       "Cafe - Y & Simply - Y  -0.446053  0.0725704 -6.14649    <1e-9\n"
      ]
     },
     "execution_count": 47,
     "metadata": {},
     "output_type": "execute_result"
    }
   ],
   "source": [
    "gm9 = glm(Trps_POS_P1 ~ 1 + log_Trps_PRE_P1 + Cafe*Simply, \n",
    "    occ, Poisson())"
   ]
  },
  {
   "cell_type": "code",
   "execution_count": 48,
   "metadata": {
    "collapsed": false
   },
   "outputs": [
    {
     "data": {
      "text/plain": [
       "7975.647173114192"
      ]
     },
     "execution_count": 48,
     "metadata": {},
     "output_type": "execute_result"
    }
   ],
   "source": [
    "deviance(gm9)"
   ]
  },
  {
   "cell_type": "code",
   "execution_count": 49,
   "metadata": {
    "collapsed": false
   },
   "outputs": [
    {
     "data": {
      "text/plain": [
       "DataFrames.DataFrameRegressionModel{GLM.GeneralizedLinearModel{GLM.GlmResp{Array{Float64,1},Distributions.Poisson,GLM.LogLink},GLM.DensePredChol{Float64,Base.LinAlg.Cholesky{Float64,Array{Float64,2}}}},Float64}\n",
       "\n",
       "Formula: Trps_POS_P1 ~ 1 + log_Trps_PRE_P1 + Creative_Groups\n",
       "\n",
       "Coefficients:\n",
       "                                          Estimate  Std.Error  z value Pr(>|z|)\n",
       "(Intercept)                                0.10291  0.0562553  1.82934   0.0673\n",
       "log_Trps_PRE_P1                           0.704171 0.00714929  98.4952   <1e-99\n",
       "Creative_Groups - Cafe Steamers           0.171857  0.0630361  2.72633   0.0064\n",
       "Creative_Groups - Simply Cafe Steamers    0.192603  0.0661875  2.90996   0.0036\n",
       "Creative_Groups - none                  -0.0815935   0.056355 -1.44785   0.1477\n"
      ]
     },
     "execution_count": 49,
     "metadata": {},
     "output_type": "execute_result"
    }
   ],
   "source": [
    "gm10 = glm(Trps_POS_P1 ~ 1 + log_Trps_PRE_P1 + Creative_Groups,\n",
    "    occ, Poisson())"
   ]
  },
  {
   "cell_type": "code",
   "execution_count": 50,
   "metadata": {
    "collapsed": false
   },
   "outputs": [
    {
     "data": {
      "text/plain": [
       "7975.647173114197"
      ]
     },
     "execution_count": 50,
     "metadata": {},
     "output_type": "execute_result"
    }
   ],
   "source": [
    "deviance(gm10)"
   ]
  },
  {
   "cell_type": "markdown",
   "metadata": {},
   "source": [
    "The two models are equivalent, they are simply different ways of writing the same model.  We could reproduce the coefficients if we used `none` as the reference level for `Creative_Groups`.  At present it is easier to do this in R."
   ]
  },
  {
   "cell_type": "code",
   "execution_count": 51,
   "metadata": {
    "collapsed": true
   },
   "outputs": [],
   "source": [
    "R\"occ <- readRDS('occ_data.rds')\";\n",
    "occ[:Creative_Groups] = rcopy(R\"relevel(occ$Creative_Groups, 'none')\");"
   ]
  },
  {
   "cell_type": "code",
   "execution_count": 52,
   "metadata": {
    "collapsed": false
   },
   "outputs": [
    {
     "data": {
      "text/plain": [
       "DataFrames.DataFrameRegressionModel{GLM.GeneralizedLinearModel{GLM.GlmResp{Array{Float64,1},Distributions.Poisson,GLM.LogLink},GLM.DensePredChol{Float64,Base.LinAlg.Cholesky{Float64,Array{Float64,2}}}},Float64}\n",
       "\n",
       "Formula: Trps_POS_P1 ~ 1 + log_Trps_PRE_P1 + Creative_Groups\n",
       "\n",
       "Coefficients:\n",
       "                                         Estimate  Std.Error z value Pr(>|z|)\n",
       "(Intercept)                             0.0213166 0.00861031 2.47571   0.0133\n",
       "log_Trps_PRE_P1                          0.704171 0.00714929 98.4952   <1e-99\n",
       "Creative_Groups - Both                  0.0815935   0.056355 1.44785   0.1477\n",
       "Creative_Groups - Cafe Steamers          0.253451  0.0297098 8.53087   <1e-16\n",
       "Creative_Groups - Simply Cafe Steamers   0.274196  0.0359151 7.63457   <1e-13\n"
      ]
     },
     "execution_count": 52,
     "metadata": {},
     "output_type": "execute_result"
    }
   ],
   "source": [
    "gm11 = glm(Trps_POS_P1 ~ 1 + log_Trps_PRE_P1 + Creative_Groups,\n",
    "    occ, Poisson())"
   ]
  },
  {
   "cell_type": "markdown",
   "metadata": {},
   "source": [
    "These results may seem to contradict those of `gm10` where the interaction is highly significant but the main effects for `Cafe` and for `Simply`, while still significant are not as highly significant.  It is one of those cases where you need to know, \"compared to what?\" before you can answer the question of whether a coefficient is important.  In this case the coefficient for \"Both\" is based on only 200 out of the 16,827 cases and is not highly significant.  In `gm9` the p-value for the interaction is equivalent to comparing this model to"
   ]
  },
  {
   "cell_type": "code",
   "execution_count": 53,
   "metadata": {
    "collapsed": false
   },
   "outputs": [
    {
     "data": {
      "text/plain": [
       "DataFrames.DataFrameRegressionModel{GLM.GeneralizedLinearModel{GLM.GlmResp{Array{Float64,1},Distributions.Poisson,GLM.LogLink},GLM.DensePredChol{Float64,Base.LinAlg.Cholesky{Float64,Array{Float64,2}}}},Float64}\n",
       "\n",
       "Formula: Trps_POS_P1 ~ 1 + log_Trps_PRE_P1 + Cafe + Simply\n",
       "\n",
       "Coefficients:\n",
       "                 Estimate  Std.Error z value Pr(>|z|)\n",
       "(Intercept)      0.026322 0.00855577 3.07652   0.0021\n",
       "log_Trps_PRE_P1  0.702607  0.0071418 98.3796   <1e-99\n",
       "Cafe - Y         0.171707  0.0275984 6.22161    <1e-9\n",
       "Simply - Y       0.152404  0.0317744 4.79644    <1e-5\n"
      ]
     },
     "execution_count": 53,
     "metadata": {},
     "output_type": "execute_result"
    }
   ],
   "source": [
    "gm12 = glm(Trps_POS_P1 ~ 1 + log_Trps_PRE_P1 + Cafe + Simply, occ, Poisson())"
   ]
  },
  {
   "cell_type": "code",
   "execution_count": 54,
   "metadata": {
    "collapsed": false
   },
   "outputs": [
    {
     "data": {
      "text/plain": [
       "39.13510916881751"
      ]
     },
     "execution_count": 54,
     "metadata": {},
     "output_type": "execute_result"
    }
   ],
   "source": [
    "deviance(gm12) - deviance(gm9)"
   ]
  },
  {
   "cell_type": "code",
   "execution_count": 55,
   "metadata": {
    "collapsed": false
   },
   "outputs": [
    {
     "data": {
      "text/plain": [
       "3.954680086539803e-10"
      ]
     },
     "execution_count": 55,
     "metadata": {},
     "output_type": "execute_result"
    }
   ],
   "source": [
    "ccdf(Chisq(1), ans)"
   ]
  },
  {
   "cell_type": "markdown",
   "metadata": {},
   "source": [
    "The fact that the coefficient for the interaction in `gm9` is highly significant and negative indicates that the `Cafe` and `Simply` factors increase the mean number of trips but the combination of the two has an effect that is lower than simply adding these two effects.\n",
    "\n",
    "## Full GLM and GLMM fits"
   ]
  },
  {
   "cell_type": "code",
   "execution_count": 56,
   "metadata": {
    "collapsed": false
   },
   "outputs": [],
   "source": [
    "fpen = Buyer_Pos_P1 ~ 1 + Cpn_Trps_Shr_DPP_P3 + Fea_Trps_Shr_DPP_P3 +\n",
    "    Dis_Trps_Shr_DPP_P3 + Cpn_Trps_Shr_DPP_P4 + AP_Trps_Shr_DPP_P4 +\n",
    "    Cpn_Trps_Shr_DPP_P5 + AP_Trps_Shr_DPP_P5 + TPR_Trps_Shr_DPP_P7 +\n",
    "    Dol_per_Trip_PRE_P8 \n",
    "\n",
    "+ AP_Trps_Shr_DPP_P8 + UN_per_Trip_PRE_P2 + \n",
    "    UN_per_Trip_PRE_P1 + Dis_Trps_Shr_DPP_P1 + Prd_1_Net_Pr_PRE + \n",
    "    Buyer_Pre_P1 + Cafe * Simply;"
   ]
  },
  {
   "cell_type": "code",
   "execution_count": 57,
   "metadata": {
    "collapsed": true
   },
   "outputs": [],
   "source": [
    "pen[:Cafe] = pool([v ∈ [\"Cafe Steamers\", \"Both\"] ? 'Y' : 'N'\n",
    "    for v in pen[:Creative_Groups]]);\n",
    "pen[:Simply] = pool([v ∈ [\"Simply Cafe Steamers\", \"Both\"] ? 'Y' : 'N'\n",
    "    for v in pen[:Creative_Groups]]);"
   ]
  },
  {
   "cell_type": "code",
   "execution_count": 58,
   "metadata": {
    "collapsed": false
   },
   "outputs": [
    {
     "data": {
      "text/plain": [
       "DataFrames.DataFrameRegressionModel{GLM.GeneralizedLinearModel{GLM.GlmResp{Array{Float64,1},Distributions.Bernoulli,GLM.LogitLink},GLM.DensePredChol{Float64,Base.LinAlg.Cholesky{Float64,Array{Float64,2}}}},Float64}\n",
       "\n",
       "Formula: Buyer_Pos_P1 ~ 1 + Cpn_Trps_Shr_DPP_P3 + Fea_Trps_Shr_DPP_P3 + Dis_Trps_Shr_DPP_P3 + Cpn_Trps_Shr_DPP_P4 + AP_Trps_Shr_DPP_P4 + Cpn_Trps_Shr_DPP_P5 + AP_Trps_Shr_DPP_P5 + TPR_Trps_Shr_DPP_P7 + Dol_per_Trip_PRE_P8 + AP_Trps_Shr_DPP_P8 + UN_per_Trip_PRE_P2 + UN_per_Trip_PRE_P1 + Dis_Trps_Shr_DPP_P1 + Prd_1_Net_Pr_PRE + Buyer_Pre_P1 + Cafe + Simply + Cafe & Simply\n",
       "\n",
       "Coefficients:\n",
       "                         Estimate Std.Error   z value Pr(>|z|)\n",
       "(Intercept)              -3.86708 0.0705666  -54.8005   <1e-99\n",
       "Cpn_Trps_Shr_DPP_P3     -0.754973   0.78236 -0.964995   0.3345\n",
       "Fea_Trps_Shr_DPP_P3     -0.570443  0.771117 -0.739762   0.4594\n",
       "Dis_Trps_Shr_DPP_P3     -0.347381   1.50455 -0.230887   0.8174\n",
       "Cpn_Trps_Shr_DPP_P4     -0.541164   0.46364  -1.16721   0.2431\n",
       "AP_Trps_Shr_DPP_P4       -0.73852  0.341411  -2.16314   0.0305\n",
       "Cpn_Trps_Shr_DPP_P5     -0.367061  0.622653 -0.589511   0.5555\n",
       "AP_Trps_Shr_DPP_P5      -0.502787  0.517036  -0.97244   0.3308\n",
       "TPR_Trps_Shr_DPP_P7      -1.45248   2.75956 -0.526344   0.5986\n",
       "Dol_per_Trip_PRE_P8    -0.0193172 0.0113983  -1.69474   0.0901\n",
       "AP_Trps_Shr_DPP_P8      -0.147439  0.207268 -0.711348   0.4769\n",
       "UN_per_Trip_PRE_P2     -0.0332344 0.0294593  -1.12815   0.2593\n",
       "UN_per_Trip_PRE_P1      -0.197648  0.127522  -1.54992   0.1212\n",
       "Dis_Trps_Shr_DPP_P1      0.376962   1.14383   0.32956   0.7417\n",
       "Prd_1_Net_Pr_PRE        0.0676143 0.0113005   5.98329    <1e-8\n",
       "Buyer_Pre_P1               2.5203  0.204831   12.3043   <1e-34\n",
       "Cafe - Y                 0.323711      0.23   1.40744   0.1593\n",
       "Simply - Y                0.41414  0.284925    1.4535   0.1461\n",
       "Cafe - Y & Simply - Y   -0.339848  0.551833 -0.615854   0.5380\n"
      ]
     },
     "execution_count": 58,
     "metadata": {},
     "output_type": "execute_result"
    }
   ],
   "source": [
    "gm13 = glm(fpen, pen, Bernoulli())"
   ]
  },
  {
   "cell_type": "code",
   "execution_count": 59,
   "metadata": {
    "collapsed": false
   },
   "outputs": [],
   "source": [
    "fpenmm = Buyer_Pos_P1 ~ 1 + Cpn_Trps_Shr_DPP_P3 + Fea_Trps_Shr_DPP_P3 +\n",
    "    Dis_Trps_Shr_DPP_P3 + Cpn_Trps_Shr_DPP_P4 + AP_Trps_Shr_DPP_P4 +\n",
    "    Cpn_Trps_Shr_DPP_P5 + AP_Trps_Shr_DPP_P5 + TPR_Trps_Shr_DPP_P7 +\n",
    "    Dol_per_Trip_PRE_P8 + AP_Trps_Shr_DPP_P8 + UN_per_Trip_PRE_P2 +\n",
    "    UN_per_Trip_PRE_P1 + Dis_Trps_Shr_DPP_P1 + Prd_1_Net_Pr_PRE +\n",
    "    Buyer_Pre_P1 + (1 | Creative_Groups);"
   ]
  },
  {
   "cell_type": "code",
   "execution_count": 60,
   "metadata": {
    "collapsed": false
   },
   "outputs": [
    {
     "data": {
      "text/plain": [
       "Generalized Linear Mixed Model fit by minimizing the Laplace approximation to the deviance\n",
       "  Formula: Buyer_Pos_P1 ~ 1 + Cpn_Trps_Shr_DPP_P3 + Fea_Trps_Shr_DPP_P3 + Dis_Trps_Shr_DPP_P3 + Cpn_Trps_Shr_DPP_P4 + AP_Trps_Shr_DPP_P4 + Cpn_Trps_Shr_DPP_P5 + AP_Trps_Shr_DPP_P5 + TPR_Trps_Shr_DPP_P7 + Dol_per_Trip_PRE_P8 + AP_Trps_Shr_DPP_P8 + UN_per_Trip_PRE_P2 + UN_per_Trip_PRE_P1 + Dis_Trps_Shr_DPP_P1 + Prd_1_Net_Pr_PRE + Buyer_Pre_P1 + (1 | Creative_Groups)\n",
       "  Distribution: Distributions.Bernoulli\n",
       "  Link: GLM.LogitLink\n",
       "\n",
       "  Deviance (Laplace approximation): 122553.2502\n",
       "\n",
       "Variance components:\n",
       "                     Column     Variance   Std.Dev.  \n",
       " Creative_Groups (Intercept)  0.028042828 0.16745993\n",
       "\n",
       " Number of obs: 544272; levels of grouping factors: 4\n",
       "\n",
       "\n",
       "Fixed-effects parameters:\n",
       "                       Estimate  Std.Error  z value P(>|z|)\n",
       "(Intercept)            -3.59282  0.0878157 -40.9132  <1e-99\n",
       "Cpn_Trps_Shr_DPP_P3   -0.754884    0.14404 -5.24078   <1e-6\n",
       "Fea_Trps_Shr_DPP_P3   -0.570425   0.141967   -4.018   <1e-4\n",
       "Dis_Trps_Shr_DPP_P3   -0.347098   0.276989 -1.25311  0.2102\n",
       "Cpn_Trps_Shr_DPP_P4   -0.541195  0.0853612 -6.34006   <1e-9\n",
       "AP_Trps_Shr_DPP_P4    -0.738262  0.0628609 -11.7444  <1e-31\n",
       "Cpn_Trps_Shr_DPP_P5   -0.367014   0.114641 -3.20142  0.0014\n",
       "AP_Trps_Shr_DPP_P5    -0.502692  0.0951949 -5.28066   <1e-6\n",
       "TPR_Trps_Shr_DPP_P7    -1.44736   0.508463 -2.84655  0.0044\n",
       "Dol_per_Trip_PRE_P8  -0.0193185 0.00209884 -9.20441  <1e-19\n",
       "AP_Trps_Shr_DPP_P8    -0.147642  0.0381621 -3.86883  0.0001\n",
       "UN_per_Trip_PRE_P2   -0.0332449 0.00542447  -6.1287   <1e-9\n",
       "UN_per_Trip_PRE_P1    -0.197667  0.0234781 -8.41922  <1e-16\n",
       "Dis_Trps_Shr_DPP_P1    0.378891   0.210611  1.79901  0.0720\n",
       "Prd_1_Net_Pr_PRE      0.0676185 0.00208062  32.4992  <1e-99\n",
       "Buyer_Pre_P1            2.52022  0.0377103  66.8309  <1e-99\n"
      ]
     },
     "execution_count": 60,
     "metadata": {},
     "output_type": "execute_result"
    }
   ],
   "source": [
    "glmm1 = fit!(glmm(fpenmm, pen, Bernoulli()))"
   ]
  },
  {
   "cell_type": "code",
   "execution_count": 61,
   "metadata": {
    "collapsed": false
   },
   "outputs": [
    {
     "data": {
      "text/plain": [
       "1-element Array{Array{Float64,2},1}:\n",
       " 1x4 Array{Float64,2}:\n",
       " 0.101533  0.0458348  0.126917  -0.274285"
      ]
     },
     "execution_count": 61,
     "metadata": {},
     "output_type": "execute_result"
    }
   ],
   "source": [
    "ranef(glmm1)"
   ]
  },
  {
   "cell_type": "code",
   "execution_count": 62,
   "metadata": {
    "collapsed": false
   },
   "outputs": [
    {
     "data": {
      "text/plain": [
       "1x4 Array{ASCIIString,2}:\n",
       " \"Both\"  \"Cafe Steamers\"  \"Simply Cafe Steamers\"  \"none\""
      ]
     },
     "execution_count": 62,
     "metadata": {},
     "output_type": "execute_result"
    }
   ],
   "source": [
    "levels(pen[:Creative_Groups])'"
   ]
  },
  {
   "cell_type": "markdown",
   "metadata": {},
   "source": [
    "You can see that the coefficient estimates for the variables that `gm13` and `glmm1` have in common are similar but the standard errors are much smaller in `glmm1`.  That may be a mistake on my part."
   ]
  },
  {
   "cell_type": "code",
   "execution_count": 63,
   "metadata": {
    "collapsed": false
   },
   "outputs": [
    {
     "name": "stdout",
     "output_type": "stream",
     "text": [
      "104.567514 seconds (58.79 k allocations: 476.001 MB, 0.12% gc time)\n"
     ]
    }
   ],
   "source": [
    "@time fit!(glmm(fpenmm, pen, Bernoulli()));"
   ]
  },
  {
   "cell_type": "code",
   "execution_count": 64,
   "metadata": {
    "collapsed": true
   },
   "outputs": [],
   "source": [
    "dolocc[:Cafe] = pool([v ∈ [\"Cafe Steamers\", \"Both\"] ? 'Y' : 'N'\n",
    "    for v in dolocc[:Creative_Groups]]);\n",
    "dolocc[:Simply] = pool([v ∈ [\"Simply Cafe Steamers\", \"Both\"] ? 'Y' : 'N'\n",
    "    for v in dolocc[:Creative_Groups]]);"
   ]
  },
  {
   "cell_type": "code",
   "execution_count": 65,
   "metadata": {
    "collapsed": false
   },
   "outputs": [],
   "source": [
    "fdolocc = Dol_per_Trip_POS_P1 ~ 1 + Trps_PRE_P4 + \n",
    "    Cpn_Dol_per_Trip_DPP_P5 + Cpn_UN_per_Trip_DPP_P8 + \n",
    "    Dis_Trps_Shr_DPP_P8 + Trps_PRE_P2 + Nonbuyer_Pre_P1 +\n",
    "    log_PRE_P1 + Cafe * Simply;"
   ]
  },
  {
   "cell_type": "code",
   "execution_count": 66,
   "metadata": {
    "collapsed": false
   },
   "outputs": [
    {
     "data": {
      "text/plain": [
       "DataFrames.DataFrameRegressionModel{GLM.GeneralizedLinearModel{GLM.GlmResp{Array{Float64,1},Distributions.Gamma,GLM.LogLink},GLM.DensePredChol{Float64,Base.LinAlg.Cholesky{Float64,Array{Float64,2}}}},Float64}\n",
       "\n",
       "Formula: Dol_per_Trip_POS_P1 ~ 1 + Trps_PRE_P4 + Cpn_Dol_per_Trip_DPP_P5 + Cpn_UN_per_Trip_DPP_P8 + Dis_Trps_Shr_DPP_P8 + Trps_PRE_P2 + Nonbuyer_Pre_P1 + log_PRE_P1 + Cafe + Simply + Cafe & Simply\n",
       "\n",
       "Coefficients:\n",
       "                            Estimate   Std.Error   z value Pr(>|z|)\n",
       "(Intercept)                 0.715024   0.0274101   26.0861   <1e-99\n",
       "Trps_PRE_P4              -0.00811152  0.00152859  -5.30655    <1e-6\n",
       "Cpn_Dol_per_Trip_DPP_P5   -0.0122007  0.00349129  -3.49461   0.0005\n",
       "Cpn_UN_per_Trip_DPP_P8    -0.0114091  0.00536827  -2.12529   0.0336\n",
       "Dis_Trps_Shr_DPP_P8       -0.0120619     0.04112 -0.293334   0.7693\n",
       "Trps_PRE_P2              -0.00832668 0.000982911  -8.47146   <1e-16\n",
       "Nonbuyer_Pre_P1             0.566353   0.0274538   20.6293   <1e-93\n",
       "log_PRE_P1                  0.513446    0.016263   31.5714   <1e-99\n",
       "Cafe - Y                    0.199867   0.0161072   12.4085   <1e-34\n",
       "Simply - Y                  0.160577   0.0199144   8.06336   <1e-15\n",
       "Cafe - Y & Simply - Y      -0.179687   0.0384866  -4.66882    <1e-5\n"
      ]
     },
     "execution_count": 66,
     "metadata": {},
     "output_type": "execute_result"
    }
   ],
   "source": [
    "gm14 = glm(fdolocc, dolocc, Gamma(), LogLink())"
   ]
  },
  {
   "cell_type": "code",
   "execution_count": 67,
   "metadata": {
    "collapsed": false,
    "scrolled": true
   },
   "outputs": [
    {
     "name": "stdout",
     "output_type": "stream",
     "text": [
      "  0.028512 seconds (1.88 k allocations: 6.997 MB)\n"
     ]
    }
   ],
   "source": [
    "@time glm(fdolocc, dolocc, Gamma(), LogLink());"
   ]
  },
  {
   "cell_type": "code",
   "execution_count": 68,
   "metadata": {
    "collapsed": false
   },
   "outputs": [
    {
     "data": {
      "text/plain": [
       "2118.6466094330053"
      ]
     },
     "execution_count": 68,
     "metadata": {},
     "output_type": "execute_result"
    }
   ],
   "source": [
    "deviance(gm14)"
   ]
  },
  {
   "cell_type": "code",
   "execution_count": 69,
   "metadata": {
    "collapsed": false
   },
   "outputs": [],
   "source": [
    "fdoloccmm = Dol_per_Trip_POS_P1 ~ 1 + Trps_PRE_P4 + Cpn_Dol_per_Trip_DPP_P5 + \n",
    "    Cpn_UN_per_Trip_DPP_P8 + Dis_Trps_Shr_DPP_P8 + Trps_PRE_P2 + \n",
    "Nonbuyer_Pre_P1 + log_PRE_P1 + (1 | Creative_Groups);"
   ]
  },
  {
   "cell_type": "code",
   "execution_count": 70,
   "metadata": {
    "collapsed": false
   },
   "outputs": [
    {
     "data": {
      "text/plain": [
       "Generalized Linear Mixed Model fit by minimizing the Laplace approximation to the deviance\n",
       "  Formula: Dol_per_Trip_POS_P1 ~ 1 + Trps_PRE_P4 + Cpn_Dol_per_Trip_DPP_P5 + Cpn_UN_per_Trip_DPP_P8 + Dis_Trps_Shr_DPP_P8 + Trps_PRE_P2 + Nonbuyer_Pre_P1 + log_PRE_P1 + (1 | Creative_Groups)\n",
       "  Distribution: Distributions.Gamma\n",
       "  Link: GLM.LogLink\n",
       "\n",
       "  Deviance (Laplace approximation): 2130.5473\n",
       "\n",
       "Variance components:\n",
       "                     Column     Variance   Std.Dev.  \n",
       " Creative_Groups (Intercept)  0.006619406 0.08135973\n",
       "\n",
       " Number of obs: 15597; levels of grouping factors: 4\n",
       "\n",
       "\n",
       "Fixed-effects parameters:\n",
       "                            Estimate  Std.Error   z value P(>|z|)\n",
       "(Intercept)                 0.837647  0.0812607   10.3082  <1e-24\n",
       "Trps_PRE_P4              -0.00809765 0.00373453  -2.16832  0.0301\n",
       "Cpn_Dol_per_Trip_DPP_P5   -0.0122831 0.00852966  -1.44005  0.1499\n",
       "Cpn_UN_per_Trip_DPP_P8    -0.0112872  0.0131153  -0.86061  0.3895\n",
       "Dis_Trps_Shr_DPP_P8       -0.0147547   0.100456 -0.146877  0.8832\n",
       "Trps_PRE_P2              -0.00831898 0.00240133  -3.46433  0.0005\n",
       "Nonbuyer_Pre_P1             0.567466  0.0670691   8.46091  <1e-16\n",
       "log_PRE_P1                   0.51362   0.039731   12.9274  <1e-37\n"
      ]
     },
     "execution_count": 70,
     "metadata": {},
     "output_type": "execute_result"
    }
   ],
   "source": [
    "glmm2 = fit!(glmm(fdoloccmm, dolocc, Gamma(), LogLink()))"
   ]
  },
  {
   "cell_type": "code",
   "execution_count": 71,
   "metadata": {
    "collapsed": false
   },
   "outputs": [
    {
     "data": {
      "text/plain": [
       "1x4 Array{ASCIIString,2}:\n",
       " \"Both\"  \"Cafe Steamers\"  \"Simply Cafe Steamers\"  \"none\""
      ]
     },
     "execution_count": 71,
     "metadata": {},
     "output_type": "execute_result"
    }
   ],
   "source": [
    "levels(dolocc[:Creative_Groups])'"
   ]
  },
  {
   "cell_type": "code",
   "execution_count": 72,
   "metadata": {
    "collapsed": false
   },
   "outputs": [
    {
     "data": {
      "text/plain": [
       "1-element Array{Array{Float64,2},1}:\n",
       " 1x4 Array{Float64,2}:\n",
       " 0.0326339  0.0623265  0.0273756  -0.122336"
      ]
     },
     "execution_count": 72,
     "metadata": {},
     "output_type": "execute_result"
    }
   ],
   "source": [
    "ranef(glmm2)"
   ]
  },
  {
   "cell_type": "code",
   "execution_count": 73,
   "metadata": {
    "collapsed": false
   },
   "outputs": [
    {
     "name": "stdout",
     "output_type": "stream",
     "text": [
      "  5.635222 seconds (93.74 k allocations: 10.883 MB)\n"
     ]
    }
   ],
   "source": [
    "@time fit!(glmm(fdoloccmm, dolocc, Gamma(), LogLink()));"
   ]
  },
  {
   "cell_type": "code",
   "execution_count": 76,
   "metadata": {
    "collapsed": false
   },
   "outputs": [],
   "source": [
    "foccmm = Trps_POS_P1 ~ 1 + Trps_PRE_P3 + AP_Trps_Shr_DPP_P3 +\n",
    "    Dol_per_Trip_PRE_P4 + Cpn_Trps_Shr_DPP_P4 + Dis_Trps_Shr_DPP_P4 +\n",
    "    AP_Trps_Shr_DPP_P6 + Dol_per_Trip_PRE_P7 + Prd_7_Net_Pr_PRE + \n",
    "    UN_per_Trip_PRE_P8 + Dis_Trps_Shr_DPP_P8 + Cpn_UN_PRE_P2 +\n",
    "    UN_per_Trip_PRE_P2 + Cpn_Trps_Shr_DPP_P1 + AP_Trps_Shr_DPP_P1 + \n",
    "    log_Trps_P1 + group + (1 + group | estimated_hh_income) +\n",
    "    (1 + group | hh_age) + \n",
    "    (1 + group | number_of_children_in_living_Un) + \n",
    "    (1 | Creative_Groups);"
   ]
  },
  {
   "cell_type": "code",
   "execution_count": 77,
   "metadata": {
    "collapsed": true
   },
   "outputs": [],
   "source": [
    "occ[:log_Trps_P1] = log(occ[:Trps_PRE_P1] + 1);"
   ]
  },
  {
   "cell_type": "code",
   "execution_count": 78,
   "metadata": {
    "collapsed": false
   },
   "outputs": [
    {
     "ename": "LoadError",
     "evalue": "LoadError: MethodError: `*` has no method matching *(::MixedModels.VectorReMat{Float64,ASCIIString,UInt8}, ::MixedModels.ScalarReMat{Float64,ASCIIString,UInt8})\nClosest candidates are:\n  *(::Any, ::Any, !Matched::Any, !Matched::Any...)\n  *{T}(!Matched::Diagonal{T}, ::MixedModels.ScalarReMat{T,S,R<:Integer})\nwhile loading In[78], in expression starting on line 1",
     "output_type": "error",
     "traceback": [
      "LoadError: MethodError: `*` has no method matching *(::MixedModels.VectorReMat{Float64,ASCIIString,UInt8}, ::MixedModels.ScalarReMat{Float64,ASCIIString,UInt8})\nClosest candidates are:\n  *(::Any, ::Any, !Matched::Any, !Matched::Any...)\n  *{T}(!Matched::Diagonal{T}, ::MixedModels.ScalarReMat{T,S,R<:Integer})\nwhile loading In[78], in expression starting on line 1",
      "",
      " in Ac_mul_B at operators.jl:163",
      " in call at /home/bates/.julia/v0.4/MixedModels/src/pls.jl:65",
      " in lmm at /home/bates/.julia/v0.4/MixedModels/src/pls.jl:104",
      " in glmm at /home/bates/.julia/v0.4/MixedModels/src/PIRLS.jl:61",
      " in glmm at /home/bates/.julia/v0.4/MixedModels/src/PIRLS.jl:88"
     ]
    }
   ],
   "source": [
    "glmm3 = fit!(glmm(foccmm, occ, Poisson()))"
   ]
  },
  {
   "cell_type": "markdown",
   "metadata": {},
   "source": [
    "I need to write more code to be able to fit this model.  I'm not sure what to do for a GLM because there as so many interaction terms."
   ]
  }
 ],
 "metadata": {
  "kernelspec": {
   "display_name": "Julia 0.4.3",
   "language": "julia",
   "name": "julia-0.4"
  },
  "language_info": {
   "file_extension": ".jl",
   "mimetype": "application/julia",
   "name": "julia",
   "version": "0.4.3"
  }
 },
 "nbformat": 4,
 "nbformat_minor": 0
}
