{
 "cells": [
  {
   "cell_type": "code",
   "execution_count": null,
   "metadata": {
    "collapsed": true
   },
   "outputs": [],
   "source": [
    "#grep array for matching string\n",
    "filter(x->ismatch(r\"prd\", string(x)), collect(names(df_data)))\n",
    "filter(x->ismatch(r\"prd\", string(x)), names(df_data))\n",
    "\n",
    "filter( x-> contains(string(x), \"MODEL\")  ,names(df_in))\n",
    "\n",
    "#Filter Dataframe\n",
    "z[map(x->!ismatch(r\"none\", string(x)),collect(z[:level])),:]"
   ]
  }
 ],
 "metadata": {
  "kernelspec": {
   "display_name": "Julia 0.4.3",
   "language": "julia",
   "name": "julia-0.4"
  },
  "language_info": {
   "file_extension": ".jl",
   "mimetype": "application/julia",
   "name": "julia",
   "version": "0.4.3"
  }
 },
 "nbformat": 4,
 "nbformat_minor": 0
}
