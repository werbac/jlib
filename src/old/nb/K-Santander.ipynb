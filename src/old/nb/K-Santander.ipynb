{
 "cells": [
  {
   "cell_type": "code",
   "execution_count": 1,
   "metadata": {
    "collapsed": true
   },
   "outputs": [],
   "source": [
    "cd(\"/media/u01/analytics/scoring/k/Santander/\")\n",
    "using DataFrames, XGBoost"
   ]
  },
  {
   "cell_type": "code",
   "execution_count": 2,
   "metadata": {
    "collapsed": false
   },
   "outputs": [
    {
     "name": "stderr",
     "output_type": "stream",
     "text": [
      "WARNING: array(df::AbstractDataFrame) is deprecated, use convert(Array,df) instead.\n",
      " in depwarn at deprecated.jl:73\n",
      " in array at deprecated.jl:50\n",
      " in include_string at loading.jl:266\n",
      " in execute_request_0x535c5df2 at /home/rmadmin/.julia/v0.4/IJulia/src/execute_request.jl:183\n",
      " in eventloop at /home/rmadmin/.julia/v0.4/IJulia/src/IJulia.jl:143\n",
      " in anonymous at task.jl:447\n",
      "while loading In[2], in expression starting on line 7\n",
      "WARNING: array(df::AbstractDataFrame) is deprecated, use convert(Array,df) instead.\n",
      " in depwarn at deprecated.jl:73\n",
      " in array at deprecated.jl:50\n",
      " in include_string at loading.jl:266\n",
      " in execute_request_0x535c5df2 at /home/rmadmin/.julia/v0.4/IJulia/src/execute_request.jl:183\n",
      " in eventloop at /home/rmadmin/.julia/v0.4/IJulia/src/IJulia.jl:143\n",
      " in anonymous at task.jl:447\n",
      "while loading In[2], in expression starting on line 9\n"
     ]
    },
    {
     "name": "stdout",
     "output_type": "stream",
     "text": [
      "Training Size=(76020,369)\n",
      "Testing Size=(75818,369)\n"
     ]
    }
   ],
   "source": [
    "traincsv = \"train.csv\"\n",
    "testcsv = \"test.csv\"\n",
    "samplesubmission = \"sample_submission.csv\"\n",
    "# read data\n",
    "df = readtable(traincsv)\n",
    "dft = readtable(testcsv)\n",
    "train_X = array(df[:,2:370])\n",
    "train_Y = array(df[:TARGET])\n",
    "test_X = array(dft[:,2:370])\n",
    "print(\"Training Size=\", size(train_X), \"\\n\")\n",
    "print(\"Testing Size=\", size(test_X), \"\\n\")"
   ]
  },
  {
   "cell_type": "code",
   "execution_count": 3,
   "metadata": {
    "collapsed": false
   },
   "outputs": [
    {
     "name": "stderr",
     "output_type": "stream",
     "text": [
      "[1]\ttrain-rmse:0.188873\n",
      "[2]\ttrain-rmse:0.188376\n",
      "[3]\ttrain-rmse:0.187878\n",
      "[4]\ttrain-rmse:0.187549\n",
      "[5]\ttrain-rmse:0.187271\n",
      "[6]\ttrain-rmse:0.187063\n",
      "[7]\ttrain-rmse:0.186923\n",
      "[8]\ttrain-rmse:0.186584\n",
      "[9]\ttrain-rmse:0.186403\n",
      "[10]\ttrain-rmse:0.186317\n",
      "[11]\ttrain-rmse:0.186257\n",
      "[12]\ttrain-rmse:0.186206\n",
      "[13]\ttrain-rmse:0.186106\n",
      "[14]\ttrain-rmse:0.186044\n",
      "[15]\ttrain-rmse:0.185959\n",
      "[16]\ttrain-rmse:0.185855\n",
      "[17]\ttrain-rmse:0.185801\n",
      "[18]\ttrain-rmse:0.185717\n",
      "[19]\ttrain-rmse:0.185638\n",
      "[20]\ttrain-rmse:0.185577\n",
      "[21]\ttrain-rmse:0.185501\n",
      "[22]\ttrain-rmse:0.185468\n",
      "[23]\ttrain-rmse:0.185357\n",
      "[24]\ttrain-rmse:0.185316\n",
      "[25]\ttrain-rmse:0.185255\n",
      "[26]\ttrain-rmse:0.185214\n",
      "[27]\ttrain-rmse:0.185156\n",
      "[28]\ttrain-rmse:0.185098\n",
      "[29]\ttrain-rmse:0.185060\n",
      "[30]\ttrain-rmse:0.185013\n",
      "[31]\ttrain-rmse:0.184968\n",
      "[32]\ttrain-rmse:0.184914\n",
      "[33]\ttrain-rmse:0.184837\n",
      "[34]\ttrain-rmse:0.184797\n",
      "[35]\ttrain-rmse:0.184768\n",
      "[36]\ttrain-rmse:0.184741\n",
      "[37]\ttrain-rmse:0.184704\n",
      "[38]\ttrain-rmse:0.184658\n",
      "[39]\ttrain-rmse:0.184633\n",
      "[40]\ttrain-rmse:0.184603\n",
      "[41]\ttrain-rmse:0.184550\n",
      "[42]\ttrain-rmse:0.184513\n",
      "[43]\ttrain-rmse:0.184456\n",
      "[44]\ttrain-rmse:0.184435\n",
      "[45]\ttrain-rmse:0.184358\n",
      "[46]\ttrain-rmse:0.184332\n",
      "[47]\ttrain-rmse:0.184300\n",
      "[48]\ttrain-rmse:0.184236\n",
      "[49]\ttrain-rmse:0.184204\n",
      "[50]\ttrain-rmse:0.184178\n",
      "[51]\ttrain-rmse:0.184159\n",
      "[52]\ttrain-rmse:0.184123\n",
      "[53]\ttrain-rmse:0.184077\n",
      "[54]\ttrain-rmse:0.184042\n",
      "[55]\ttrain-rmse:0.184006\n",
      "[56]\ttrain-rmse:0.183992\n",
      "[57]\ttrain-rmse:0.183980\n",
      "[58]\ttrain-rmse:0.183942\n",
      "[59]\ttrain-rmse:0.183934\n",
      "[60]\ttrain-rmse:0.183913\n",
      "[61]\ttrain-rmse:0.183888\n",
      "[62]\ttrain-rmse:0.183847\n",
      "[63]\ttrain-rmse:0.183797\n",
      "[64]\ttrain-rmse:0.183748\n",
      "[65]\ttrain-rmse:0.183721\n",
      "[66]\ttrain-rmse:0.183708\n",
      "[67]\ttrain-rmse:0.183667\n",
      "[68]\ttrain-rmse:0.183628\n",
      "[69]\ttrain-rmse:0.183586\n",
      "[70]\ttrain-rmse:0.183552\n",
      "[71]\ttrain-rmse:0.183544\n",
      "[72]\ttrain-rmse:0.183516\n",
      "[73]\ttrain-rmse:0.183502\n",
      "[74]\ttrain-rmse:0.183487\n",
      "[75]\ttrain-rmse:0.183452\n",
      "[76]\ttrain-rmse:0.183418\n",
      "[77]\ttrain-rmse:0.183391\n",
      "[78]\ttrain-rmse:0.183366\n",
      "[79]\ttrain-rmse:0.183335\n",
      "[80]\ttrain-rmse:0.183309\n",
      "[81]\ttrain-rmse:0.183295\n",
      "[82]\ttrain-rmse:0.183271\n",
      "[83]\ttrain-rmse:0.183250\n",
      "[84]\ttrain-rmse:0.183233\n",
      "[85]\ttrain-rmse:0.183207\n",
      "[86]\ttrain-rmse:0.183183\n",
      "[87]\ttrain-rmse:0.183146\n",
      "[88]\ttrain-rmse:0.183117\n",
      "[89]\ttrain-rmse:0.183088\n",
      "[90]\ttrain-rmse:0.183050\n",
      "[91]\ttrain-rmse:0.183010\n",
      "[92]\ttrain-rmse:0.182982\n",
      "[93]\ttrain-rmse:0.182967\n",
      "[94]\ttrain-rmse:0.182917\n",
      "[95]\ttrain-rmse:0.182882\n",
      "[96]\ttrain-rmse:0.182845\n",
      "[97]\ttrain-rmse:0.182834\n",
      "[98]\ttrain-rmse:0.182793\n",
      "[99]\ttrain-rmse:0.182777\n",
      "[100]\ttrain-rmse:0.182741\n"
     ]
    },
    {
     "name": "stdout",
     "output_type": "stream",
     "text": [
      "Prediction Size=(75818,)\n",
      "Mean Prediction=0.04166316875472078\n",
      "Max Prediction=0.0\n",
      "Min Prediction=1.0\n"
     ]
    }
   ],
   "source": [
    "# train xgboost\n",
    "num_round = 100\n",
    "bst = xgboost(train_X, num_round, label=train_Y, eta=1, max_depth=2)\n",
    "# predict on testing data\n",
    "pred = XGBoost.predict(bst, test_X)\n",
    "# clip prediction value between [0.0, 1.0]\n",
    "pred = [min(max(pred[i], 0.0), 1.0) for i = 1:length(pred)]\n",
    "print(\"Prediction Size=\", size(pred), \"\\n\")\n",
    "print(\"Mean Prediction=\", mean(pred), \"\\n\")\n",
    "print(\"Max Prediction=\", minimum(pred), \"\\n\")\n",
    "print(\"Min Prediction=\", maximum(pred), \"\\n\")"
   ]
  },
  {
   "cell_type": "code",
   "execution_count": null,
   "metadata": {
    "collapsed": false
   },
   "outputs": [],
   "source": []
  },
  {
   "cell_type": "code",
   "execution_count": null,
   "metadata": {
    "collapsed": true
   },
   "outputs": [],
   "source": []
  },
  {
   "cell_type": "code",
   "execution_count": null,
   "metadata": {
    "collapsed": true
   },
   "outputs": [],
   "source": [
    "splsub = readtable(samplesubmission)\n",
    "splsub[:,2] = pred\n",
    "writetable(\"submission.csv\", splsub)"
   ]
  },
  {
   "cell_type": "code",
   "execution_count": null,
   "metadata": {
    "collapsed": true
   },
   "outputs": [],
   "source": []
  },
  {
   "cell_type": "code",
   "execution_count": null,
   "metadata": {
    "collapsed": true
   },
   "outputs": [],
   "source": [
    "#################### OR ToDo - Conert from R#####################################"
   ]
  },
  {
   "cell_type": "code",
   "execution_count": null,
   "metadata": {
    "collapsed": true
   },
   "outputs": [],
   "source": [
    "library(xgboost)\n",
    "library(Matrix)\n",
    "set.seed(1234)\n",
    "train <- read.csv(\"train.csv\")\n",
    "test  <- read.csv(\"test.csv\")\n",
    "##### Removing IDs\n",
    "train$ID <- NULL\n",
    "test.id <- test$ID\n",
    "test$ID <- NULL\n",
    "##### Extracting TARGET\n",
    "train.y <- train$TARGET\n",
    "train$TARGET <- NULL\n",
    "##### 0 count per line\n",
    "count0 <- function(x) {\n",
    "    return( sum(x == 0) )\n",
    "}\n",
    "train$n0 <- apply(train, 1, FUN=count0)\n",
    "test$n0 <- apply(test, 1, FUN=count0)\n",
    "\n",
    "##### Removing constant features\n",
    "cat(\"\\n## Removing the constants features.\\n\")\n",
    "for (f in names(train)) {\n",
    "    if (length(unique(train[[f]])) == 1) {\n",
    "        cat(f, \"is constant in train. We delete it.\\n\")\n",
    "        train[[f]] <- NULL\n",
    "        test[[f]] <- NULL\n",
    "    }\n",
    "}\n",
    "\n",
    "##### Removing identical features\n",
    "features_pair <- combn(names(train), 2, simplify = F)\n",
    "toRemove <- c()\n",
    "for(pair in features_pair) {\n",
    "    f1 <- pair[1]\n",
    "    f2 <- pair[2]\n",
    "    \n",
    "    if (!(f1 %in% toRemove) & !(f2 %in% toRemove)) {\n",
    "        if (all(train[[f1]] == train[[f2]])) {\n",
    "            cat(f1, \"and\", f2, \"are equals.\\n\")\n",
    "            toRemove <- c(toRemove, f2)\n",
    "        }\n",
    "    }\n",
    "}\n",
    "\n",
    "feature.names <- setdiff(names(train), toRemove)\n",
    "\n",
    "train <- train[, feature.names]\n",
    "test <- test[, feature.names]\n",
    "\n",
    "train$TARGET <- train.y\n",
    "\n",
    "\n",
    "train <- sparse.model.matrix(TARGET ~ ., data = train)\n",
    "\n",
    "dtrain <- xgb.DMatrix(data=train, label=train.y)\n",
    "watchlist <- list(train=dtrain)\n",
    "\n",
    "param <- list(  objective           = \"binary:logistic\", \n",
    "                booster             = \"gbtree\",\n",
    "                eval_metric         = \"auc\",\n",
    "                eta                 = 0.02,\n",
    "                max_depth           = 5,\n",
    "                subsample           = 0.7,\n",
    "                colsample_bytree    = 0.7\n",
    ")\n",
    "\n",
    "clf <- xgb.train(   params              = param, \n",
    "                    data                = dtrain, \n",
    "                    nrounds             = 560, \n",
    "                    verbose             = 2,\n",
    "                    watchlist           = watchlist,\n",
    "                    maximize            = FALSE\n",
    ")\n",
    "\n",
    "\n",
    "test$TARGET <- -1\n",
    "test <- sparse.model.matrix(TARGET ~ ., data = test)\n",
    "\n",
    "preds <- predict(clf, test)\n",
    "submission <- data.frame(ID=test.id, TARGET=preds)\n",
    "cat(\"saving the submission file\\n\")\n",
    "write.csv(submission, \"submission.csv\", row.names = F)"
   ]
  }
 ],
 "metadata": {
  "kernelspec": {
   "display_name": "Julia 0.4.3",
   "language": "julia",
   "name": "julia-0.4"
  },
  "language_info": {
   "file_extension": ".jl",
   "mimetype": "application/julia",
   "name": "julia",
   "version": "0.4.3"
  }
 },
 "nbformat": 4,
 "nbformat_minor": 0
}
